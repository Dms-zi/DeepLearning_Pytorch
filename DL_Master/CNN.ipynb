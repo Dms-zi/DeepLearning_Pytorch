{
 "cells": [
  {
   "cell_type": "markdown",
   "id": "db531de7",
   "metadata": {},
   "source": [
    "# 예제"
   ]
  },
  {
   "cell_type": "code",
   "execution_count": 1,
   "id": "ea747d29",
   "metadata": {},
   "outputs": [],
   "source": [
    "import torch\n",
    "import torch.nn as nn"
   ]
  },
  {
   "cell_type": "code",
   "execution_count": 2,
   "id": "7a5145ac",
   "metadata": {},
   "outputs": [],
   "source": [
    "inputs=torch.Tensor(1,1,28,28)  #batch, channel, height, width"
   ]
  },
  {
   "cell_type": "code",
   "execution_count": 3,
   "id": "de4b2392",
   "metadata": {},
   "outputs": [
    {
     "data": {
      "text/plain": [
       "torch.Size([1, 1, 28, 28])"
      ]
     },
     "execution_count": 3,
     "metadata": {},
     "output_type": "execute_result"
    }
   ],
   "source": [
    "inputs.shape"
   ]
  },
  {
   "cell_type": "code",
   "execution_count": 4,
   "id": "4876fc5b",
   "metadata": {},
   "outputs": [],
   "source": [
    "conv1=nn.Conv2d(1,32,3,padding=1) # 1-> 32 channel, kernel_size=3, padding=1\n",
    "pool=nn.MaxPool2d(2) \n",
    "conv2=nn.Conv2d(32,64,3,padding=1) # 32->64 channel, kernel_size=3, padding=1"
   ]
  },
  {
   "cell_type": "code",
   "execution_count": 5,
   "id": "6aea830e",
   "metadata": {},
   "outputs": [
    {
     "data": {
      "text/plain": [
       "Conv2d(1, 32, kernel_size=(3, 3), stride=(1, 1), padding=(1, 1))"
      ]
     },
     "execution_count": 5,
     "metadata": {},
     "output_type": "execute_result"
    }
   ],
   "source": [
    "conv1"
   ]
  },
  {
   "cell_type": "code",
   "execution_count": 6,
   "id": "97b81c48",
   "metadata": {},
   "outputs": [
    {
     "data": {
      "text/plain": [
       "Conv2d(32, 64, kernel_size=(3, 3), stride=(1, 1), padding=(1, 1))"
      ]
     },
     "execution_count": 6,
     "metadata": {},
     "output_type": "execute_result"
    }
   ],
   "source": [
    "conv2"
   ]
  },
  {
   "cell_type": "code",
   "execution_count": 7,
   "id": "a8689761",
   "metadata": {},
   "outputs": [
    {
     "data": {
      "text/plain": [
       "torch.Size([1, 32, 28, 28])"
      ]
     },
     "execution_count": 7,
     "metadata": {},
     "output_type": "execute_result"
    }
   ],
   "source": [
    "out=conv1(inputs)\n",
    "out.shape"
   ]
  },
  {
   "cell_type": "code",
   "execution_count": 8,
   "id": "f5666258",
   "metadata": {},
   "outputs": [
    {
     "data": {
      "text/plain": [
       "torch.Size([1, 32, 14, 14])"
      ]
     },
     "execution_count": 8,
     "metadata": {},
     "output_type": "execute_result"
    }
   ],
   "source": [
    "out=pool(out)\n",
    "out.shape"
   ]
  },
  {
   "cell_type": "markdown",
   "id": "ebc04839",
   "metadata": {},
   "source": [
    "# MNIST"
   ]
  },
  {
   "cell_type": "markdown",
   "id": "19a5f1d9",
   "metadata": {},
   "source": [
    "## 라이브러리 로드"
   ]
  },
  {
   "cell_type": "code",
   "execution_count": 9,
   "id": "9831b8c6",
   "metadata": {},
   "outputs": [],
   "source": [
    "import torch\n",
    "import torchvision.datasets as dsets\n",
    "import torchvision.transforms as transforms\n",
    "import torch.nn.init\n",
    "import torch.nn as nn"
   ]
  },
  {
   "cell_type": "markdown",
   "id": "5dba9efd",
   "metadata": {},
   "source": [
    "## GPU , random_seed 설정"
   ]
  },
  {
   "cell_type": "code",
   "execution_count": 10,
   "id": "5ede1015",
   "metadata": {},
   "outputs": [],
   "source": [
    "device = 'cuda' if torch.cuda.is_available() else 'cpu'\n",
    "\n",
    "torch.manual_seed(777)\n",
    "if device=='cuda':\n",
    "    torch.cuda.manual_seed_all(777)"
   ]
  },
  {
   "cell_type": "code",
   "execution_count": 11,
   "id": "89932a89",
   "metadata": {},
   "outputs": [
    {
     "name": "stdout",
     "output_type": "stream",
     "text": [
      "cuda\n"
     ]
    },
    {
     "data": {
      "text/plain": [
       "True"
      ]
     },
     "execution_count": 11,
     "metadata": {},
     "output_type": "execute_result"
    }
   ],
   "source": [
    "print(device)\n",
    "torch.cuda.is_available()"
   ]
  },
  {
   "cell_type": "markdown",
   "id": "9e653d36",
   "metadata": {},
   "source": [
    "## 하이퍼 파라미터"
   ]
  },
  {
   "cell_type": "code",
   "execution_count": 12,
   "id": "29219682",
   "metadata": {},
   "outputs": [],
   "source": [
    "learning_rate=0.01\n",
    "epochs=15\n",
    "batch_size=100"
   ]
  },
  {
   "cell_type": "markdown",
   "id": "3ec992b8",
   "metadata": {},
   "source": [
    "## MNIST Dataset"
   ]
  },
  {
   "cell_type": "code",
   "execution_count": 13,
   "id": "afaf222f",
   "metadata": {},
   "outputs": [],
   "source": [
    "mnist_train=dsets.MNIST(root='MNIST_data/',\n",
    "                       train=True,\n",
    "                       transform=transforms.ToTensor(),\n",
    "                        download=True)\n",
    "\n",
    "mnist_test=dsets.MNIST(root='MNIST_data/',\n",
    "                      train=False,\n",
    "                      transform=transforms.ToTensor(),\n",
    "                      download=True)"
   ]
  },
  {
   "cell_type": "markdown",
   "id": "3f731f82",
   "metadata": {},
   "source": [
    "## DataLoader"
   ]
  },
  {
   "cell_type": "code",
   "execution_count": 14,
   "id": "6949a265",
   "metadata": {},
   "outputs": [],
   "source": [
    "data_loader=torch.utils.data.DataLoader(dataset=mnist_train,\n",
    "                                  batch_size=batch_size,\n",
    "                                   shuffle=True,\n",
    "                                   drop_last=True)"
   ]
  },
  {
   "cell_type": "markdown",
   "id": "cf685589",
   "metadata": {},
   "source": [
    "## class CNN"
   ]
  },
  {
   "cell_type": "code",
   "execution_count": 15,
   "id": "6b4d7597",
   "metadata": {},
   "outputs": [],
   "source": [
    "# CNN Model (2 conv layers)\n",
    "class CNN(torch.nn.Module):\n",
    "\n",
    "    def __init__(self):\n",
    "        super(CNN, self).__init__()\n",
    "        # L1 ImgIn shape=(?, 28, 28, 1)\n",
    "        #    Conv     -> (?, 28, 28, 32)\n",
    "        #    Pool     -> (?, 14, 14, 32)\n",
    "        self.layer1 = torch.nn.Sequential(\n",
    "            torch.nn.Conv2d(1, 32, kernel_size=3, stride=1, padding=1),\n",
    "            torch.nn.ReLU(),\n",
    "            torch.nn.MaxPool2d(kernel_size=2, stride=2))\n",
    "        # L2 ImgIn shape=(?, 14, 14, 32)\n",
    "        #    Conv      ->(?, 14, 14, 64)\n",
    "        #    Pool      ->(?, 7, 7, 64)\n",
    "        self.layer2 = torch.nn.Sequential(\n",
    "            torch.nn.Conv2d(32, 64, kernel_size=3, stride=1, padding=1),\n",
    "            torch.nn.ReLU(),\n",
    "            torch.nn.MaxPool2d(kernel_size=2, stride=2))\n",
    "        # Final FC 7x7x64 inputs -> 10 outputs\n",
    "        self.fc = torch.nn.Linear(7 * 7 * 64, 10, bias=True)\n",
    "        torch.nn.init.xavier_uniform_(self.fc.weight)\n",
    "\n",
    "    def forward(self, x):\n",
    "        out = self.layer1(x)\n",
    "        out = self.layer2(out)\n",
    "        out = out.view(out.size(0), -1)   # Flatten them for FC\n",
    "        out = self.fc(out)\n",
    "        return out"
   ]
  },
  {
   "cell_type": "code",
   "execution_count": 16,
   "id": "a187bf4d",
   "metadata": {},
   "outputs": [],
   "source": [
    "model= CNN().to(device)"
   ]
  },
  {
   "cell_type": "code",
   "execution_count": 17,
   "id": "b101a282",
   "metadata": {},
   "outputs": [
    {
     "data": {
      "text/plain": [
       "CNN(\n",
       "  (layer1): Sequential(\n",
       "    (0): Conv2d(1, 32, kernel_size=(3, 3), stride=(1, 1), padding=(1, 1))\n",
       "    (1): ReLU()\n",
       "    (2): MaxPool2d(kernel_size=2, stride=2, padding=0, dilation=1, ceil_mode=False)\n",
       "  )\n",
       "  (layer2): Sequential(\n",
       "    (0): Conv2d(32, 64, kernel_size=(3, 3), stride=(1, 1), padding=(1, 1))\n",
       "    (1): ReLU()\n",
       "    (2): MaxPool2d(kernel_size=2, stride=2, padding=0, dilation=1, ceil_mode=False)\n",
       "  )\n",
       "  (fc): Linear(in_features=3136, out_features=10, bias=True)\n",
       ")"
      ]
     },
     "execution_count": 17,
     "metadata": {},
     "output_type": "execute_result"
    }
   ],
   "source": [
    "model"
   ]
  },
  {
   "cell_type": "code",
   "execution_count": 18,
   "id": "0b9cf1cb",
   "metadata": {},
   "outputs": [],
   "source": [
    "criterion=nn.CrossEntropyLoss().to(device)\n",
    "optimizer=torch.optim.Adam(model.parameters(), lr=learning_rate)"
   ]
  },
  {
   "cell_type": "markdown",
   "id": "0b74a9f3",
   "metadata": {},
   "source": [
    "## Training"
   ]
  },
  {
   "cell_type": "code",
   "execution_count": 19,
   "id": "ed1fc866",
   "metadata": {},
   "outputs": [
    {
     "name": "stdout",
     "output_type": "stream",
     "text": [
      "[Epoch : 1 cost=0.17674435675144196 ]\n",
      "[Epoch : 2 cost=0.07137061655521393 ]\n",
      "[Epoch : 3 cost=0.059587642550468445 ]\n",
      "[Epoch : 4 cost=0.05626598373055458 ]\n",
      "[Epoch : 5 cost=0.05199291929602623 ]\n",
      "[Epoch : 6 cost=0.04780910536646843 ]\n",
      "[Epoch : 7 cost=0.04590580239892006 ]\n",
      "[Epoch : 8 cost=0.04528481513261795 ]\n",
      "[Epoch : 9 cost=0.04321351274847984 ]\n",
      "[Epoch : 10 cost=0.041123729199171066 ]\n",
      "[Epoch : 11 cost=0.04129207879304886 ]\n",
      "[Epoch : 12 cost=0.03778209164738655 ]\n",
      "[Epoch : 13 cost=0.038466524332761765 ]\n",
      "[Epoch : 14 cost=0.037482064217329025 ]\n",
      "[Epoch : 15 cost=0.03570949286222458 ]\n",
      "Learning Finished\n"
     ]
    }
   ],
   "source": [
    "total_batch=len(data_loader)\n",
    "\n",
    "for e in range(epochs):\n",
    "    avg_cost=0\n",
    "    \n",
    "    for image,label in data_loader:\n",
    "        image=image.to(device) #연산 위해 torch -cuda\n",
    "        label=label.to(device)\n",
    "        \n",
    "        optimizer.zero_grad() # Pytorch에서는 gradients값들을 추후에 backward를 해줄때 계속 더해주기 때문, 1iter 마다 0으로 초기화\n",
    "        hypothesis=model(image) # 가설\n",
    "        \n",
    "        cost=criterion(hypothesis,label)\n",
    "        cost.backward()\n",
    "        optimizer.step()\n",
    "        \n",
    "        avg_cost+= cost/total_batch\n",
    "        \n",
    "    print(f'[Epoch : {e +1 } cost={ avg_cost} ]')\n",
    "    \n",
    "print('Learning Finished')"
   ]
  },
  {
   "cell_type": "code",
   "execution_count": 20,
   "id": "db8788be",
   "metadata": {},
   "outputs": [
    {
     "name": "stdout",
     "output_type": "stream",
     "text": [
      "Accuracy:0.7616999745368958\n"
     ]
    }
   ],
   "source": [
    "with torch.no_grad():\n",
    "    X_test= mnist_test.data.view(len(mnist_test),1,28,28).float().to(device)\n",
    "    Y_test= mnist_test.targets.to(device)\n",
    "    \n",
    "    pre=model(X_test)\n",
    "    correct=torch.argmax(pre,1)==Y_test\n",
    "    accuracy=correct.float().mean()\n",
    "    print(f'Accuracy:{accuracy.item()}')"
   ]
  },
  {
   "cell_type": "markdown",
   "id": "7d556f75",
   "metadata": {},
   "source": [
    "## Layer3, Layer4,5 추가"
   ]
  },
  {
   "cell_type": "code",
   "execution_count": 21,
   "id": "d29cf98b",
   "metadata": {},
   "outputs": [],
   "source": [
    "class CNN(torch.nn.Module):\n",
    "\n",
    "    def __init__(self):\n",
    "        super(CNN, self).__init__()\n",
    "        # L1 ImgIn shape=(?, 28, 28, 1)\n",
    "        #    Conv     -> (?, 28, 28, 32)\n",
    "        #    Pool     -> (?, 14, 14, 32)\n",
    "        self.layer1 = torch.nn.Sequential(\n",
    "            torch.nn.Conv2d(1, 32, kernel_size=3, stride=1, padding=1),\n",
    "            torch.nn.ReLU(),\n",
    "            torch.nn.MaxPool2d(kernel_size=2, stride=2))\n",
    "        # L2 ImgIn shape=(?, 14, 14, 32)\n",
    "        #    Conv      ->(?, 14, 14, 64)\n",
    "        #    Pool      ->(?, 7, 7, 64)\n",
    "        self.layer2 = torch.nn.Sequential(\n",
    "            torch.nn.Conv2d(32, 64, kernel_size=3, stride=1, padding=1),\n",
    "            torch.nn.ReLU(),\n",
    "            torch.nn.MaxPool2d(kernel_size=2, stride=2))\n",
    "        \n",
    "        self.layer3 = torch.nn.Sequential(\n",
    "            torch.nn.Conv2d(64, 128, kernel_size=3, stride=1, padding=1),\n",
    "            torch.nn.ReLU(),\n",
    "            torch.nn.MaxPool2d(kernel_size=2, stride=2))\n",
    "            \n",
    "        # FC1 4*4*128 inputs -> 625 outputs\n",
    "        self.fc1 = torch.nn.Linear(3*3*128, 625)\n",
    "        # Final FC 7x7x64 inputs -> 10 outputs\n",
    "        self.relu=torch.nn.ReLU()\n",
    "        self.fc2 = torch.nn.Linear(625, 10, bias=True)\n",
    "        torch.nn.init.xavier_uniform_(self.fc1.weight)\n",
    "        torch.nn.init.xavier_uniform_(self.fc2.weight)\n",
    "\n",
    "    def forward(self, x):\n",
    "        out = self.layer1(x)\n",
    "        out = self.layer2(out)\n",
    "        out = self.layer3(out)\n",
    "        out = out.view(out.size(0), -1)   # Flatten them for FC\n",
    "        out = self.fc1(out)\n",
    "        out = self.relu(out)\n",
    "        out = self.fc2(out)\n",
    "        return out"
   ]
  },
  {
   "cell_type": "code",
   "execution_count": 22,
   "id": "989e6a06",
   "metadata": {},
   "outputs": [],
   "source": [
    "model= CNN().to(device)"
   ]
  },
  {
   "cell_type": "code",
   "execution_count": 23,
   "id": "3cfea06e",
   "metadata": {},
   "outputs": [
    {
     "data": {
      "text/plain": [
       "CNN(\n",
       "  (layer1): Sequential(\n",
       "    (0): Conv2d(1, 32, kernel_size=(3, 3), stride=(1, 1), padding=(1, 1))\n",
       "    (1): ReLU()\n",
       "    (2): MaxPool2d(kernel_size=2, stride=2, padding=0, dilation=1, ceil_mode=False)\n",
       "  )\n",
       "  (layer2): Sequential(\n",
       "    (0): Conv2d(32, 64, kernel_size=(3, 3), stride=(1, 1), padding=(1, 1))\n",
       "    (1): ReLU()\n",
       "    (2): MaxPool2d(kernel_size=2, stride=2, padding=0, dilation=1, ceil_mode=False)\n",
       "  )\n",
       "  (layer3): Sequential(\n",
       "    (0): Conv2d(64, 128, kernel_size=(3, 3), stride=(1, 1), padding=(1, 1))\n",
       "    (1): ReLU()\n",
       "    (2): MaxPool2d(kernel_size=2, stride=2, padding=0, dilation=1, ceil_mode=False)\n",
       "  )\n",
       "  (fc1): Linear(in_features=1152, out_features=625, bias=True)\n",
       "  (relu): ReLU()\n",
       "  (fc2): Linear(in_features=625, out_features=10, bias=True)\n",
       ")"
      ]
     },
     "execution_count": 23,
     "metadata": {},
     "output_type": "execute_result"
    }
   ],
   "source": [
    "model"
   ]
  },
  {
   "cell_type": "code",
   "execution_count": 24,
   "id": "7aaad4bf",
   "metadata": {},
   "outputs": [],
   "source": [
    "criterion=nn.CrossEntropyLoss().to(device)\n",
    "optimizer=torch.optim.Adam(model.parameters(), lr=learning_rate)"
   ]
  },
  {
   "cell_type": "code",
   "execution_count": 25,
   "id": "e5df07c5",
   "metadata": {},
   "outputs": [
    {
     "data": {
      "text/plain": [
       "tensor([[-2.4622e+35, -2.3513e+35,  2.1016e+35, -3.1294e+35,  3.0945e+35,\n",
       "          3.0100e+35,  4.1137e+35, -1.9250e+35,  7.8237e+34,  2.3623e+35]],\n",
       "       device='cuda:0', grad_fn=<AddmmBackward0>)"
      ]
     },
     "execution_count": 25,
     "metadata": {},
     "output_type": "execute_result"
    }
   ],
   "source": [
    "value=torch.Tensor(1,1,28,28).to(device)\n",
    "model(value)"
   ]
  },
  {
   "cell_type": "code",
   "execution_count": 26,
   "id": "5094172e",
   "metadata": {},
   "outputs": [
    {
     "name": "stdout",
     "output_type": "stream",
     "text": [
      "[Epoch : 1 cost=0.24065932631492615 ]\n",
      "[Epoch : 2 cost=0.08496139943599701 ]\n",
      "[Epoch : 3 cost=0.07487007230520248 ]\n",
      "[Epoch : 4 cost=0.07037733495235443 ]\n",
      "[Epoch : 5 cost=0.06719613820314407 ]\n",
      "[Epoch : 6 cost=0.06837671995162964 ]\n",
      "[Epoch : 7 cost=0.07036831974983215 ]\n",
      "[Epoch : 8 cost=0.06124445050954819 ]\n",
      "[Epoch : 9 cost=0.05818888172507286 ]\n",
      "[Epoch : 10 cost=0.06006084382534027 ]\n",
      "[Epoch : 11 cost=0.06365584582090378 ]\n",
      "[Epoch : 12 cost=0.057791296392679214 ]\n",
      "[Epoch : 13 cost=0.05354469642043114 ]\n",
      "[Epoch : 14 cost=0.05404578894376755 ]\n",
      "[Epoch : 15 cost=0.052008550614118576 ]\n",
      "Learning Finished\n"
     ]
    }
   ],
   "source": [
    "total_batch=len(data_loader)\n",
    "\n",
    "for e in range(epochs):\n",
    "    avg_cost=0\n",
    "    \n",
    "    for image,label in data_loader:\n",
    "        image=image.to(device) #연산 위해 torch -cuda\n",
    "        label=label.to(device)\n",
    "        \n",
    "        optimizer.zero_grad() # Pytorch에서는 gradients값들을 추후에 backward를 해줄때 계속 더해주기 때문, 1iter 마다 0으로 초기화\n",
    "        hypothesis=model(image) # 가설\n",
    "        \n",
    "        cost=criterion(hypothesis,label)\n",
    "        cost.backward()\n",
    "        optimizer.step()\n",
    "        \n",
    "        avg_cost+= cost/total_batch\n",
    "        \n",
    "    print(f'[Epoch : {e +1 } cost={ avg_cost} ]')\n",
    "    \n",
    "print('Learning Finished')"
   ]
  },
  {
   "cell_type": "code",
   "execution_count": 27,
   "id": "e413d35d",
   "metadata": {},
   "outputs": [
    {
     "name": "stdout",
     "output_type": "stream",
     "text": [
      "Accuracy:0.8104999661445618\n"
     ]
    },
    {
     "name": "stderr",
     "output_type": "stream",
     "text": [
      "C:\\Users\\Eunji\\miniconda3\\envs\\ML\\lib\\site-packages\\torchvision\\datasets\\mnist.py:80: UserWarning: test_data has been renamed data\n",
      "  warnings.warn(\"test_data has been renamed data\")\n",
      "C:\\Users\\Eunji\\miniconda3\\envs\\ML\\lib\\site-packages\\torchvision\\datasets\\mnist.py:70: UserWarning: test_labels has been renamed targets\n",
      "  warnings.warn(\"test_labels has been renamed targets\")\n"
     ]
    }
   ],
   "source": [
    "with torch.no_grad():\n",
    "    X_test= mnist_test.test_data.view(len(mnist_test),1,28,28).float().to(device)\n",
    "    Y_test= mnist_test.test_labels.to(device)\n",
    "    \n",
    "    pre=model(X_test)\n",
    "    correct=torch.argmax(pre,1)==Y_test\n",
    "    accuracy=correct.float().mean()\n",
    "    print(f'Accuracy:{accuracy.item()}')"
   ]
  },
  {
   "cell_type": "code",
   "execution_count": null,
   "id": "fd4a2f4c",
   "metadata": {},
   "outputs": [],
   "source": []
  }
 ],
 "metadata": {
  "kernelspec": {
   "display_name": "Python 3 (ipykernel)",
   "language": "python",
   "name": "python3"
  },
  "language_info": {
   "codemirror_mode": {
    "name": "ipython",
    "version": 3
   },
   "file_extension": ".py",
   "mimetype": "text/x-python",
   "name": "python",
   "nbconvert_exporter": "python",
   "pygments_lexer": "ipython3",
   "version": "3.10.8"
  },
  "toc": {
   "base_numbering": 1,
   "nav_menu": {},
   "number_sections": true,
   "sideBar": true,
   "skip_h1_title": false,
   "title_cell": "Table of Contents",
   "title_sidebar": "Contents",
   "toc_cell": false,
   "toc_position": {},
   "toc_section_display": true,
   "toc_window_display": false
  }
 },
 "nbformat": 4,
 "nbformat_minor": 5
}
