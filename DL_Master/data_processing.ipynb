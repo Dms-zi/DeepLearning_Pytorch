{
 "cells": [
  {
   "cell_type": "markdown",
   "id": "cc9fc6bb",
   "metadata": {},
   "source": [
    "# 이미지파일 로딩"
   ]
  },
  {
   "cell_type": "code",
   "execution_count": 1,
   "id": "4c5aaba3",
   "metadata": {},
   "outputs": [],
   "source": [
    "import imageio\n",
    "import torch"
   ]
  },
  {
   "cell_type": "code",
   "execution_count": 2,
   "id": "72d0945d",
   "metadata": {},
   "outputs": [
    {
     "name": "stderr",
     "output_type": "stream",
     "text": [
      "C:\\Users\\Eunji\\AppData\\Local\\Temp\\ipykernel_11320\\2715363302.py:1: DeprecationWarning: Starting with ImageIO v3 the behavior of this function will switch to that of iio.v3.imread. To keep the current behavior (and make this warning dissapear) use `import imageio.v2 as imageio` or call `imageio.v2.imread` directly.\n",
      "  img_arr=imageio.imread('data/p1ch4/image-dog/bobby.jpg')\n"
     ]
    },
    {
     "data": {
      "text/plain": [
       "(720, 1280, 3)"
      ]
     },
     "execution_count": 2,
     "metadata": {},
     "output_type": "execute_result"
    }
   ],
   "source": [
    "img_arr=imageio.imread('data/p1ch4/image-dog/bobby.jpg')\n",
    "img_arr.shape"
   ]
  },
  {
   "cell_type": "code",
   "execution_count": 3,
   "id": "73fe973d",
   "metadata": {},
   "outputs": [],
   "source": [
    "img=torch.from_numpy(img_arr)\n",
    "out=img.permute(2,0,1)"
   ]
  },
  {
   "cell_type": "code",
   "execution_count": 4,
   "id": "a29d7521",
   "metadata": {},
   "outputs": [],
   "source": [
    "batch_size=3\n",
    "batch= torch.zeros(batch_size,3,256,256,dtype=torch.uint8)"
   ]
  },
  {
   "cell_type": "code",
   "execution_count": 5,
   "id": "bfa57739",
   "metadata": {
    "scrolled": false
   },
   "outputs": [
    {
     "name": "stderr",
     "output_type": "stream",
     "text": [
      "C:\\Users\\Eunji\\AppData\\Local\\Temp\\ipykernel_11320\\2139627687.py:8: DeprecationWarning: Starting with ImageIO v3 the behavior of this function will switch to that of iio.v3.imread. To keep the current behavior (and make this warning dissapear) use `import imageio.v2 as imageio` or call `imageio.v2.imread` directly.\n",
      "  img_arr=imageio.imread(os.path.join(data_dir,filename))\n"
     ]
    }
   ],
   "source": [
    "import os\n",
    "\n",
    "data_dir='data/p1ch4/image-cats/'\n",
    "filenames=[name for name in os.listdir(data_dir)\n",
    "          if os.path.splitext(name)[-1]=='.png']\n",
    "\n",
    "for i,filename in enumerate(filenames):\n",
    "    img_arr=imageio.imread(os.path.join(data_dir,filename))\n",
    "    img_t=torch.from_numpy(img_arr)\n",
    "    img_t=img_t.permute(2,0,1)\n",
    "    img_t=img_t[:3]\n",
    "    batch[i]=img_t\n"
   ]
  },
  {
   "cell_type": "markdown",
   "id": "22d2abd3",
   "metadata": {},
   "source": [
    "# 데이터 정규화"
   ]
  },
  {
   "cell_type": "code",
   "execution_count": 6,
   "id": "31da769d",
   "metadata": {},
   "outputs": [],
   "source": [
    "batch=batch.float()\n",
    "batch/=255.0"
   ]
  },
  {
   "cell_type": "code",
   "execution_count": 7,
   "id": "f0af9605",
   "metadata": {},
   "outputs": [],
   "source": [
    "n_channels=batch.shape[1]\n",
    "for c in range(n_channels):\n",
    "    mean=torch.mean(batch[:,c])\n",
    "    std=torch.std(batch[:,c])\n",
    "    batch[:,c]=(batch[:,c]-mean/std)"
   ]
  },
  {
   "cell_type": "markdown",
   "id": "cb14699a",
   "metadata": {},
   "source": [
    "# 3차원 이미지: 용적 데이터"
   ]
  },
  {
   "cell_type": "code",
   "execution_count": 8,
   "id": "edd55585",
   "metadata": {},
   "outputs": [
    {
     "name": "stdout",
     "output_type": "stream",
     "text": [
      "Reading DICOM (examining files): 1/99 files (1.0%11/99 files (11.1%27/99 files (27.3%37/99 files (37.4%53/99 files (53.5%67/99 files (67.7%80/99 files (80.8%94/99 files (94.9%99/99 files (100.0%)\n",
      "  Found 1 correct series.\n",
      "Reading DICOM (loading data): 35/99  (35.468/99  (68.799/99  (100.0%)\n"
     ]
    },
    {
     "data": {
      "text/plain": [
       "(99, 512, 512)"
      ]
     },
     "execution_count": 8,
     "metadata": {},
     "output_type": "execute_result"
    }
   ],
   "source": [
    "#특수 포맷 로딩\n",
    "import imageio\n",
    "\n",
    "dir_path='data/p1ch4/volumetric-dicom/2_LUNG'\n",
    "vol_arr= imageio.volread(dir_path,'DICOM')\n",
    "vol_arr.shape"
   ]
  },
  {
   "cell_type": "code",
   "execution_count": 9,
   "id": "3c8a55a6",
   "metadata": {},
   "outputs": [
    {
     "data": {
      "text/plain": [
       "torch.Size([1, 99, 512, 512])"
      ]
     },
     "execution_count": 9,
     "metadata": {},
     "output_type": "execute_result"
    }
   ],
   "source": [
    "vol=torch.from_numpy(vol_arr).float()\n",
    "vol=torch.unsqueeze(vol,0)\n",
    "\n",
    "vol.shape"
   ]
  },
  {
   "cell_type": "code",
   "execution_count": 10,
   "id": "2914c15a",
   "metadata": {},
   "outputs": [
    {
     "data": {
      "text/plain": [
       "torch.Size([1, 99, 512, 512])"
      ]
     },
     "execution_count": 10,
     "metadata": {},
     "output_type": "execute_result"
    }
   ],
   "source": [
    "torch.Size([1,99,512,512])"
   ]
  },
  {
   "cell_type": "markdown",
   "id": "0fc30019",
   "metadata": {},
   "source": [
    "# 테이블 데이터 표현"
   ]
  },
  {
   "cell_type": "code",
   "execution_count": 11,
   "id": "373fb87b",
   "metadata": {
    "scrolled": true
   },
   "outputs": [
    {
     "data": {
      "text/plain": [
       "array([[ 7.  ,  0.27,  0.36, ...,  0.45,  8.8 ,  6.  ],\n",
       "       [ 6.3 ,  0.3 ,  0.34, ...,  0.49,  9.5 ,  6.  ],\n",
       "       [ 8.1 ,  0.28,  0.4 , ...,  0.44, 10.1 ,  6.  ],\n",
       "       ...,\n",
       "       [ 6.5 ,  0.24,  0.19, ...,  0.46,  9.4 ,  6.  ],\n",
       "       [ 5.5 ,  0.29,  0.3 , ...,  0.38, 12.8 ,  7.  ],\n",
       "       [ 6.  ,  0.21,  0.38, ...,  0.32, 11.8 ,  6.  ]], dtype=float32)"
      ]
     },
     "execution_count": 11,
     "metadata": {},
     "output_type": "execute_result"
    }
   ],
   "source": [
    "import csv\n",
    "import numpy as np\n",
    "wine_path=\"data/p1ch4/tabular-wine/winequality-white.csv\"\n",
    "wineq_numpy=np.loadtxt(wine_path,dtype=np.float32,delimiter=\";\",skiprows=1)\n",
    "\n",
    "wineq_numpy"
   ]
  },
  {
   "cell_type": "code",
   "execution_count": 12,
   "id": "88d37c8b",
   "metadata": {},
   "outputs": [
    {
     "data": {
      "text/plain": [
       "((4898, 12),\n",
       " ['fixed acidity',\n",
       "  'volatile acidity',\n",
       "  'citric acid',\n",
       "  'residual sugar',\n",
       "  'chlorides',\n",
       "  'free sulfur dioxide',\n",
       "  'total sulfur dioxide',\n",
       "  'density',\n",
       "  'pH',\n",
       "  'sulphates',\n",
       "  'alcohol',\n",
       "  'quality'])"
      ]
     },
     "execution_count": 12,
     "metadata": {},
     "output_type": "execute_result"
    }
   ],
   "source": [
    "col_list=next(csv.reader(open(wine_path),delimiter=';'))\n",
    "\n",
    "wineq_numpy.shape,col_list\n"
   ]
  },
  {
   "cell_type": "code",
   "execution_count": 13,
   "id": "3447970a",
   "metadata": {},
   "outputs": [
    {
     "data": {
      "text/plain": [
       "(torch.Size([4898, 12]), torch.float32)"
      ]
     },
     "execution_count": 13,
     "metadata": {},
     "output_type": "execute_result"
    }
   ],
   "source": [
    "wineq=torch.from_numpy(wineq_numpy)\n",
    "\n",
    "wineq.shape, wineq.dtype"
   ]
  },
  {
   "cell_type": "markdown",
   "id": "9c681b03",
   "metadata": {},
   "source": [
    "## 점수 표현하기 (실수)"
   ]
  },
  {
   "cell_type": "code",
   "execution_count": 14,
   "id": "879cc545",
   "metadata": {},
   "outputs": [
    {
     "data": {
      "text/plain": [
       "(tensor([[ 7.0000,  0.2700,  0.3600,  ...,  3.0000,  0.4500,  8.8000],\n",
       "         [ 6.3000,  0.3000,  0.3400,  ...,  3.3000,  0.4900,  9.5000],\n",
       "         [ 8.1000,  0.2800,  0.4000,  ...,  3.2600,  0.4400, 10.1000],\n",
       "         ...,\n",
       "         [ 6.5000,  0.2400,  0.1900,  ...,  2.9900,  0.4600,  9.4000],\n",
       "         [ 5.5000,  0.2900,  0.3000,  ...,  3.3400,  0.3800, 12.8000],\n",
       "         [ 6.0000,  0.2100,  0.3800,  ...,  3.2600,  0.3200, 11.8000]]),\n",
       " torch.Size([4898, 11]))"
      ]
     },
     "execution_count": 14,
     "metadata": {},
     "output_type": "execute_result"
    }
   ],
   "source": [
    "data=wineq[:,:-1] #모든 행과 마지막을 제외한 모든 열 선택\n",
    "data,data.shape"
   ]
  },
  {
   "cell_type": "code",
   "execution_count": 21,
   "id": "28ef4b80",
   "metadata": {},
   "outputs": [
    {
     "data": {
      "text/plain": [
       "(tensor([6, 6, 6,  ..., 6, 7, 6]), torch.Size([4898]))"
      ]
     },
     "execution_count": 21,
     "metadata": {},
     "output_type": "execute_result"
    }
   ],
   "source": [
    "target=wineq[:,-1].long()# 모든 행, 마지막 열 선택\n",
    "target,target.shape"
   ]
  },
  {
   "cell_type": "markdown",
   "id": "9884edf4",
   "metadata": {},
   "source": [
    "## 원핫 인코딩 scatter"
   ]
  },
  {
   "cell_type": "code",
   "execution_count": 22,
   "id": "e9d53ece",
   "metadata": {
    "scrolled": true
   },
   "outputs": [
    {
     "data": {
      "text/plain": [
       "tensor([[0., 0., 0.,  ..., 0., 0., 0.],\n",
       "        [0., 0., 0.,  ..., 0., 0., 0.],\n",
       "        [0., 0., 0.,  ..., 0., 0., 0.],\n",
       "        ...,\n",
       "        [0., 0., 0.,  ..., 0., 0., 0.],\n",
       "        [0., 0., 0.,  ..., 1., 0., 0.],\n",
       "        [0., 0., 0.,  ..., 0., 0., 0.]])"
      ]
     },
     "execution_count": 22,
     "metadata": {},
     "output_type": "execute_result"
    }
   ],
   "source": [
    "target_onehot=torch.zeros(target.shape[0],10) \n",
    "target_onehot.scatter_(1, target.unsqueeze(1),1.0) # dim,index,src -> tensor"
   ]
  },
  {
   "cell_type": "markdown",
   "id": "d68ae84a",
   "metadata": {},
   "source": [
    "## 텐서 형태의 데이터 가공"
   ]
  },
  {
   "cell_type": "code",
   "execution_count": 23,
   "id": "07982934",
   "metadata": {},
   "outputs": [
    {
     "data": {
      "text/plain": [
       "tensor([6.8548e+00, 2.7824e-01, 3.3419e-01, 6.3914e+00, 4.5772e-02, 3.5308e+01,\n",
       "        1.3836e+02, 9.9403e-01, 3.1883e+00, 4.8985e-01, 1.0514e+01])"
      ]
     },
     "execution_count": 23,
     "metadata": {},
     "output_type": "execute_result"
    }
   ],
   "source": [
    "data_mean=torch.mean(data,dim=0)\n",
    "data_mean"
   ]
  },
  {
   "cell_type": "code",
   "execution_count": 24,
   "id": "f28eb60f",
   "metadata": {},
   "outputs": [
    {
     "data": {
      "text/plain": [
       "tensor([7.1211e-01, 1.0160e-02, 1.4646e-02, 2.5726e+01, 4.7733e-04, 2.8924e+02,\n",
       "        1.8061e+03, 8.9455e-06, 2.2801e-02, 1.3025e-02, 1.5144e+00])"
      ]
     },
     "execution_count": 24,
     "metadata": {},
     "output_type": "execute_result"
    }
   ],
   "source": [
    "data_var=torch.var(data,dim=0)\n",
    "data_var"
   ]
  },
  {
   "cell_type": "code",
   "execution_count": 27,
   "id": "37dcae9c",
   "metadata": {},
   "outputs": [
    {
     "data": {
      "text/plain": [
       "tensor([[ 1.7208e-01, -8.1761e-02,  2.1326e-01,  ..., -1.2468e+00,\n",
       "         -3.4915e-01, -1.3930e+00],\n",
       "        [-6.5743e-01,  2.1587e-01,  4.7996e-02,  ...,  7.3995e-01,\n",
       "          1.3422e-03, -8.2419e-01],\n",
       "        [ 1.4756e+00,  1.7450e-02,  5.4378e-01,  ...,  4.7505e-01,\n",
       "         -4.3677e-01, -3.3663e-01],\n",
       "        ...,\n",
       "        [-4.2043e-01, -3.7940e-01, -1.1915e+00,  ..., -1.3130e+00,\n",
       "         -2.6153e-01, -9.0545e-01],\n",
       "        [-1.6054e+00,  1.1666e-01, -2.8253e-01,  ...,  1.0049e+00,\n",
       "         -9.6251e-01,  1.8574e+00],\n",
       "        [-1.0129e+00, -6.7703e-01,  3.7852e-01,  ...,  4.7505e-01,\n",
       "         -1.4882e+00,  1.0448e+00]])"
      ]
     },
     "execution_count": 27,
     "metadata": {},
     "output_type": "execute_result"
    }
   ],
   "source": [
    "data_normalized=(data-data_mean)/torch.sqrt(data_var)\n",
    "data_normalized"
   ]
  },
  {
   "cell_type": "markdown",
   "id": "63ca08ae",
   "metadata": {},
   "source": [
    "## 임계값으로 구분"
   ]
  },
  {
   "cell_type": "code",
   "execution_count": 28,
   "id": "1e4cb5f9",
   "metadata": {},
   "outputs": [
    {
     "data": {
      "text/plain": [
       "(torch.Size([4898]), torch.bool, tensor(20))"
      ]
     },
     "execution_count": 28,
     "metadata": {},
     "output_type": "execute_result"
    }
   ],
   "source": [
    "bad_indexes=target<=3 #\n",
    "bad_indexes.shape,bad_indexes.dtype, bad_indexes.sum()"
   ]
  },
  {
   "cell_type": "code",
   "execution_count": 29,
   "id": "9bf70d86",
   "metadata": {},
   "outputs": [
    {
     "data": {
      "text/plain": [
       "torch.Size([20, 11])"
      ]
     },
     "execution_count": 29,
     "metadata": {},
     "output_type": "execute_result"
    }
   ],
   "source": [
    "bad_data=data[bad_indexes]\n",
    "bad_data.shape"
   ]
  },
  {
   "cell_type": "code",
   "execution_count": 33,
   "id": "28a5975a",
   "metadata": {
    "scrolled": true
   },
   "outputs": [
    {
     "name": "stdout",
     "output_type": "stream",
     "text": [
      " 0 fixed acidity          7.60   6.89   6.73\n",
      " 1 volatile acidity       0.33   0.28   0.27\n",
      " 2 citric acid            0.34   0.34   0.33\n",
      " 3 residual sugar         6.39   6.71   5.26\n",
      " 4 chlorides              0.05   0.05   0.04\n",
      " 5 free sulfur dioxide   53.33  35.42  34.55\n",
      " 6 total sulfur dioxide 170.60 141.83 125.25\n",
      " 7 density                0.99   0.99   0.99\n",
      " 8 pH                     3.19   3.18   3.22\n",
      " 9 sulphates              0.47   0.49   0.50\n",
      "10 alcohol               10.34  10.26  11.42\n"
     ]
    }
   ],
   "source": [
    "bad_data=data[target<=3]\n",
    "mid_data=data[(target>3)& (target<7)]\n",
    "good_data=data[target>=7]\n",
    "\n",
    "bad_mean=torch.mean(bad_data, dim=0)\n",
    "mid_mean=torch.mean(mid_data, dim=0)\n",
    "good_mean=torch.mean(good_data, dim=0)\n",
    "\n",
    "for i,args in enumerate(zip(col_list,bad_mean,mid_mean,good_mean)):\n",
    "    print('{:2} {:20} {:6.2f} {:6.2f} {:6.2f}'.format(i, *args))"
   ]
  },
  {
   "cell_type": "code",
   "execution_count": 34,
   "id": "661d5ab0",
   "metadata": {},
   "outputs": [
    {
     "data": {
      "text/plain": [
       "(torch.Size([4898]), torch.bool, tensor(2727))"
      ]
     },
     "execution_count": 34,
     "metadata": {},
     "output_type": "execute_result"
    }
   ],
   "source": [
    "total_sulfur_threshold=141.83 #이산화황(sulfeur dioxide)가 높으면 나쁜 와인임\n",
    "total_sulfur_data=data[:,6] # 이산화황 총량에서 중앙점보다 낮은 인덱스 가져오기\n",
    "predicted_indexes=torch.lt(total_sulfur_data, total_sulfur_threshold)\n",
    "predicted_indexes.shape, predicted_indexes.dtype, predicted_indexes.sum()\n"
   ]
  },
  {
   "cell_type": "code",
   "execution_count": 35,
   "id": "adfaa448",
   "metadata": {},
   "outputs": [
    {
     "data": {
      "text/plain": [
       "(torch.Size([4898]), torch.bool, tensor(3258))"
      ]
     },
     "execution_count": 35,
     "metadata": {},
     "output_type": "execute_result"
    }
   ],
   "source": [
    "actual_indexes=target>5\n",
    "actual_indexes.shape, actual_indexes.dtype, actual_indexes.sum()"
   ]
  },
  {
   "cell_type": "code",
   "execution_count": 36,
   "id": "4a47d8bf",
   "metadata": {},
   "outputs": [],
   "source": [
    "n_matches=torch.sum(actual_indexes& predicted_indexes).item()\n",
    "n_predicted=torch.sum(predicted_indexes).item()\n",
    "n_actual=torch.sum(actual_indexes).item()"
   ]
  },
  {
   "cell_type": "code",
   "execution_count": 37,
   "id": "febb7d4c",
   "metadata": {},
   "outputs": [
    {
     "data": {
      "text/plain": [
       "(2018, 0.74000733406674, 0.6193984039287906)"
      ]
     },
     "execution_count": 37,
     "metadata": {},
     "output_type": "execute_result"
    }
   ],
   "source": [
    "n_matches, n_matches/n_predicted, n_matches/n_actual"
   ]
  },
  {
   "cell_type": "markdown",
   "id": "4e79d9e8",
   "metadata": {},
   "source": [
    "# 시계열 데이터셋"
   ]
  },
  {
   "cell_type": "code",
   "execution_count": 39,
   "id": "7c3bbf57",
   "metadata": {},
   "outputs": [
    {
     "data": {
      "text/plain": [
       "tensor([[1.0000e+00, 1.0000e+00, 1.0000e+00,  ..., 3.0000e+00, 1.3000e+01,\n",
       "         1.6000e+01],\n",
       "        [2.0000e+00, 1.0000e+00, 1.0000e+00,  ..., 8.0000e+00, 3.2000e+01,\n",
       "         4.0000e+01],\n",
       "        [3.0000e+00, 1.0000e+00, 1.0000e+00,  ..., 5.0000e+00, 2.7000e+01,\n",
       "         3.2000e+01],\n",
       "        ...,\n",
       "        [1.7377e+04, 3.1000e+01, 1.0000e+00,  ..., 7.0000e+00, 8.3000e+01,\n",
       "         9.0000e+01],\n",
       "        [1.7378e+04, 3.1000e+01, 1.0000e+00,  ..., 1.3000e+01, 4.8000e+01,\n",
       "         6.1000e+01],\n",
       "        [1.7379e+04, 3.1000e+01, 1.0000e+00,  ..., 1.2000e+01, 3.7000e+01,\n",
       "         4.9000e+01]])"
      ]
     },
     "execution_count": 39,
     "metadata": {},
     "output_type": "execute_result"
    }
   ],
   "source": [
    "bikes_numpy=np.loadtxt(\n",
    "    \"data/p1ch4/bike-sharing-dataset/hour-fixed.csv\",\n",
    "    dtype=np.float32,\n",
    "    delimiter=\",\",\n",
    "    skiprows=1,\n",
    "    converters={1:lambda x: float(x[8:10])}) #첫번째 열의 문자열으 숫자로 변환\n",
    "\n",
    "bikes=torch.from_numpy(bikes_numpy)\n",
    "bikes"
   ]
  },
  {
   "cell_type": "code",
   "execution_count": 40,
   "id": "4ce562af",
   "metadata": {},
   "outputs": [
    {
     "data": {
      "text/plain": [
       "(torch.Size([17520, 17]), (17, 1))"
      ]
     },
     "execution_count": 40,
     "metadata": {},
     "output_type": "execute_result"
    }
   ],
   "source": [
    "bikes.shape, bikes.stride() # 17520 시간, 17개 열"
   ]
  },
  {
   "cell_type": "code",
   "execution_count": 41,
   "id": "357c17f7",
   "metadata": {},
   "outputs": [
    {
     "data": {
      "text/plain": [
       "(torch.Size([730, 24, 17]), (408, 17, 1))"
      ]
     },
     "execution_count": 41,
     "metadata": {},
     "output_type": "execute_result"
    }
   ],
   "source": [
    "daily_bikes=bikes.view(-1,24,bikes.shape[1]) # 저장공간을 바꾸지 않고 차원 수, 스트라이드 정보를 바꾼 새 텐서 넘김\n",
    "daily_bikes.shape, daily_bikes.stride() # 730일 24시간 17열 -> 시간을 한칸 이동하려면 17열이동, 일자를 한칸 옮기렴녀 한행 *24 곱해야함\n"
   ]
  },
  {
   "cell_type": "code",
   "execution_count": 42,
   "id": "45b0dbb6",
   "metadata": {},
   "outputs": [
    {
     "data": {
      "text/plain": [
       "(torch.Size([730, 17, 24]), (408, 1, 17))"
      ]
     },
     "execution_count": 42,
     "metadata": {},
     "output_type": "execute_result"
    }
   ],
   "source": [
    "#730일(채널), 17개 값, 24시간 -> 텐서 전치\n",
    "daily_bikes=daily_bikes.transpose(1,2)\n",
    "daily_bikes.shape,daily_bikes.stride()"
   ]
  },
  {
   "cell_type": "markdown",
   "id": "847d86b4",
   "metadata": {},
   "source": [
    "## 훈련 준비"
   ]
  },
  {
   "cell_type": "code",
   "execution_count": 43,
   "id": "61439e42",
   "metadata": {},
   "outputs": [
    {
     "data": {
      "text/plain": [
       "tensor([1, 1, 1, 1, 1, 2, 1, 1, 1, 1, 1, 1, 1, 2, 2, 2, 2, 2, 3, 3, 2, 2, 2, 2])"
      ]
     },
     "execution_count": 43,
     "metadata": {},
     "output_type": "execute_result"
    }
   ],
   "source": [
    "# 날씨 상태 (1좋음 -> 4나쁨)\n",
    "# 첫날의 데이터 \n",
    "first_day=bikes[:24].long()\n",
    "weather_onehot=torch.zeros(first_day.shape[0],4)\n",
    "first_day[:,9]"
   ]
  },
  {
   "cell_type": "code",
   "execution_count": 47,
   "id": "44eca8d8",
   "metadata": {},
   "outputs": [
    {
     "data": {
      "text/plain": [
       "tensor([[1., 0., 0., 0.],\n",
       "        [1., 0., 0., 0.],\n",
       "        [1., 0., 0., 0.],\n",
       "        [1., 0., 0., 0.],\n",
       "        [1., 0., 0., 0.],\n",
       "        [0., 1., 0., 0.],\n",
       "        [1., 0., 0., 0.],\n",
       "        [1., 0., 0., 0.],\n",
       "        [1., 0., 0., 0.],\n",
       "        [1., 0., 0., 0.],\n",
       "        [1., 0., 0., 0.],\n",
       "        [1., 0., 0., 0.],\n",
       "        [1., 0., 0., 0.],\n",
       "        [0., 1., 0., 0.],\n",
       "        [0., 1., 0., 0.],\n",
       "        [0., 1., 0., 0.],\n",
       "        [0., 1., 0., 0.],\n",
       "        [0., 1., 0., 0.],\n",
       "        [0., 0., 1., 0.],\n",
       "        [0., 0., 1., 0.],\n",
       "        [0., 1., 0., 0.],\n",
       "        [0., 1., 0., 0.],\n",
       "        [0., 1., 0., 0.],\n",
       "        [0., 1., 0., 0.]])"
      ]
     },
     "execution_count": 47,
     "metadata": {},
     "output_type": "execute_result"
    }
   ],
   "source": [
    "# 첫날 데이터 원핫 인코딩\n",
    "weather_onehot.scatter_(\n",
    "    dim=1,\n",
    "    index=first_day[:,9].unsqueeze(1).long()-1, #인덱스가 0부터 시작하여 1 뻄\n",
    "    value=1.0)\n"
   ]
  },
  {
   "cell_type": "code",
   "execution_count": 48,
   "id": "5e8bfcf9",
   "metadata": {},
   "outputs": [
    {
     "data": {
      "text/plain": [
       "tensor([[ 1.0000,  1.0000,  1.0000,  0.0000,  1.0000,  0.0000,  0.0000,  6.0000,\n",
       "          0.0000,  1.0000,  0.2400,  0.2879,  0.8100,  0.0000,  3.0000, 13.0000,\n",
       "         16.0000,  1.0000,  0.0000,  0.0000,  0.0000]])"
      ]
     },
     "execution_count": 48,
     "metadata": {},
     "output_type": "execute_result"
    }
   ],
   "source": [
    "torch.cat((bikes[:24],weather_onehot),1)[:1]"
   ]
  },
  {
   "cell_type": "code",
   "execution_count": 49,
   "id": "62894370",
   "metadata": {},
   "outputs": [],
   "source": [
    "daily_weather_onehot=torch.zeros(daily_bikes.shape[0],4,daily_bikes.shape[2])"
   ]
  },
  {
   "cell_type": "code",
   "execution_count": 50,
   "id": "150cc879",
   "metadata": {},
   "outputs": [
    {
     "data": {
      "text/plain": [
       "torch.Size([730, 4, 24])"
      ]
     },
     "execution_count": 50,
     "metadata": {},
     "output_type": "execute_result"
    }
   ],
   "source": [
    "daily_weather_onehot.shape"
   ]
  },
  {
   "cell_type": "code",
   "execution_count": 52,
   "id": "d744c625",
   "metadata": {},
   "outputs": [
    {
     "data": {
      "text/plain": [
       "torch.Size([730, 4, 24])"
      ]
     },
     "execution_count": 52,
     "metadata": {},
     "output_type": "execute_result"
    }
   ],
   "source": [
    "daily_weather_onehot.scatter_( #텐서 c차원에 원핫인코딩\n",
    "    1,daily_bikes[:,9,:].long().unsqueeze(1)-1,1.0) # 9번째 열이 날씨\n",
    "daily_weather_onehot.shape"
   ]
  },
  {
   "cell_type": "code",
   "execution_count": 53,
   "id": "25bae373",
   "metadata": {},
   "outputs": [],
   "source": [
    "daily_bikes=torch.cat((daily_bikes,daily_weather_onehot),dim=1) # 병합\n",
    "daily_bikes[:,9,:]=(daily_bikes[:,9,:]-1.0)/3.0\n",
    "\n",
    "\n",
    "temp=daily_bikes[:,10,:] #10번째열인 온도 값(연속)을 0~1사이로 정규화함\n",
    "temp_min=torch.min(temp)\n",
    "temp_max=torch.max(temp)\n",
    "daily_bikes[:,10,:]=((daily_bikes[:,10,:]-temp_min)/(temp_max-temp_min))\n"
   ]
  },
  {
   "cell_type": "code",
   "execution_count": 54,
   "id": "6f4075ea",
   "metadata": {},
   "outputs": [],
   "source": [
    "temp=daily_bikes[:,10,:]\n",
    "daily_bikes[:,10,:]=((daily_bikes[:,10,:]-torch.mean(temp))/torch.std(temp))"
   ]
  },
  {
   "cell_type": "markdown",
   "id": "44a5f382",
   "metadata": {},
   "source": [
    "# 텍스트 데이터"
   ]
  },
  {
   "cell_type": "code",
   "execution_count": 81,
   "id": "c3041ddc",
   "metadata": {},
   "outputs": [],
   "source": [
    "with open('data/p1ch4/jane-austen/1342-0.txt',encoding='utf8') as f:\n",
    "    text=f.read()"
   ]
  },
  {
   "cell_type": "code",
   "execution_count": 82,
   "id": "3318c72c",
   "metadata": {},
   "outputs": [
    {
     "data": {
      "text/plain": [
       "'“Impossible, Mr. Bennet, impossible, when I am not acquainted with him'"
      ]
     },
     "execution_count": 82,
     "metadata": {},
     "output_type": "execute_result"
    }
   ],
   "source": [
    "lines=text.split('\\n') #텍스트를 행으로 나눔\n",
    "line=lines[200]\n",
    "line"
   ]
  },
  {
   "cell_type": "code",
   "execution_count": 83,
   "id": "300396f6",
   "metadata": {},
   "outputs": [
    {
     "data": {
      "text/plain": [
       "torch.Size([70, 128])"
      ]
     },
     "execution_count": 83,
     "metadata": {},
     "output_type": "execute_result"
    }
   ],
   "source": [
    "letter_t=torch.zeros(len(line),128) # ASCII 제한 128로 하드코딩\n",
    "letter_t.shape"
   ]
  },
  {
   "cell_type": "code",
   "execution_count": 84,
   "id": "7067c50e",
   "metadata": {},
   "outputs": [],
   "source": [
    "# 문장단위 원핫인코딩\n",
    "for i ,letter in enumerate(line.lower().strip()):\n",
    "    letter_index=ord(letter) if ord(letter)<128 else 0 # 아스키코드 반환\n",
    "    letter_t[i][letter_index]=1"
   ]
  },
  {
   "cell_type": "code",
   "execution_count": 94,
   "id": "3ff366b1",
   "metadata": {},
   "outputs": [],
   "source": [
    "# 단어 단위 원핫인코딩\n",
    "# 소문자로 바꾸고 구두점 날리는 함수 생성\n",
    "def clean_words(input_str):\n",
    "    punctuation='.,;:\"!?“\"_-'\n",
    "    word_list=input_str.lower().replace('\\n',' ').split()\n",
    "    word_list=[word.strip(punctuation) for word in word_list]\n",
    "    return word_list"
   ]
  },
  {
   "cell_type": "code",
   "execution_count": 95,
   "id": "eb3fa352",
   "metadata": {
    "scrolled": true
   },
   "outputs": [
    {
     "data": {
      "text/plain": [
       "('“Impossible, Mr. Bennet, impossible, when I am not acquainted with him',\n",
       " ['impossible',\n",
       "  'mr',\n",
       "  'bennet',\n",
       "  'impossible',\n",
       "  'when',\n",
       "  'i',\n",
       "  'am',\n",
       "  'not',\n",
       "  'acquainted',\n",
       "  'with',\n",
       "  'him'])"
      ]
     },
     "execution_count": 95,
     "metadata": {},
     "output_type": "execute_result"
    }
   ],
   "source": [
    "words_in_line=clean_words(line)\n",
    "line,words_in_line"
   ]
  },
  {
   "cell_type": "code",
   "execution_count": 96,
   "id": "225ac807",
   "metadata": {},
   "outputs": [
    {
     "data": {
      "text/plain": [
       "(8267, 3848)"
      ]
     },
     "execution_count": 96,
     "metadata": {},
     "output_type": "execute_result"
    }
   ],
   "source": [
    "word_list=sorted(set(clean_words(text)))\n",
    "word2index_dict={word: i for (i,word) in enumerate(word_list)}\n",
    "\n",
    "len(word2index_dict), word2index_dict['impossible']"
   ]
  },
  {
   "cell_type": "code",
   "execution_count": 98,
   "id": "2a08c867",
   "metadata": {},
   "outputs": [
    {
     "name": "stdout",
     "output_type": "stream",
     "text": [
      " 0 3848 impossible\n",
      " 1 4928 mr\n",
      " 2  899 bennet\n",
      " 3 3848 impossible\n",
      " 4 8049 when\n",
      " 5 3759 i\n",
      " 6  449 am\n",
      " 7 5081 not\n",
      " 8  249 acquainted\n",
      " 9 8126 with\n",
      "10 3637 him\n",
      "torch.Size([11, 8267])\n"
     ]
    }
   ],
   "source": [
    "word_t=torch.zeros(len(words_in_line),len(word2index_dict))\n",
    "for i, word in enumerate(words_in_line):\n",
    "    word_index=word2index_dict[word]\n",
    "    word_t[i][word_index]=1\n",
    "    print('{:2} {:4} {}'.format(i,word_index,word))\n",
    "print(word_t.shape)"
   ]
  },
  {
   "cell_type": "code",
   "execution_count": null,
   "id": "cac18a13",
   "metadata": {},
   "outputs": [],
   "source": []
  }
 ],
 "metadata": {
  "kernelspec": {
   "display_name": "Python 3 (ipykernel)",
   "language": "python",
   "name": "python3"
  },
  "language_info": {
   "codemirror_mode": {
    "name": "ipython",
    "version": 3
   },
   "file_extension": ".py",
   "mimetype": "text/x-python",
   "name": "python",
   "nbconvert_exporter": "python",
   "pygments_lexer": "ipython3",
   "version": "3.10.8"
  },
  "toc": {
   "base_numbering": 1,
   "nav_menu": {},
   "number_sections": true,
   "sideBar": true,
   "skip_h1_title": false,
   "title_cell": "Table of Contents",
   "title_sidebar": "Contents",
   "toc_cell": false,
   "toc_position": {},
   "toc_section_display": true,
   "toc_window_display": false
  }
 },
 "nbformat": 4,
 "nbformat_minor": 5
}
