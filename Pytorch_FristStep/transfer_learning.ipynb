{
 "cells": [
  {
   "cell_type": "code",
   "execution_count": 21,
   "id": "fd74ac29",
   "metadata": {},
   "outputs": [],
   "source": [
    "from torch import nn, optim\n",
    "from torch.utils.data import (Dataset,DataLoader,TensorDataset)\n",
    "from torchvision.datasets import ImageFolder\n",
    "from torchvision import transforms\n",
    "import tqdm\n",
    "import torch"
   ]
  },
  {
   "cell_type": "code",
   "execution_count": 22,
   "id": "07c4df18",
   "metadata": {},
   "outputs": [],
   "source": [
    "# dataset\n",
    "train_imgs=ImageFolder(\"taco_and_burrito/train/\", transform=transforms.Compose([\n",
    "    transforms.RandomCrop(224),transforms.ToTensor()\n",
    "]))\n",
    "\n",
    "test_imgs=ImageFolder(\"taco_and_burrito/test/\", transform=transforms.Compose([\n",
    "    transforms.CenterCrop(224), transforms.ToTensor()\n",
    "]))\n",
    "\n",
    "#DataLoader\n",
    "train_loader= DataLoader(\n",
    "    train_imgs, batch_size=32, shuffle=True)\n",
    "test_loader= DataLoader(\n",
    "    train_imgs, batch_size=32, shuffle=False)\n"
   ]
  },
  {
   "cell_type": "code",
   "execution_count": 23,
   "id": "5f20425e",
   "metadata": {},
   "outputs": [
    {
     "name": "stdout",
     "output_type": "stream",
     "text": [
      "['burrito', 'taco']\n"
     ]
    }
   ],
   "source": [
    "print(train_imgs.classes)"
   ]
  },
  {
   "cell_type": "code",
   "execution_count": 24,
   "id": "aa66d5fc",
   "metadata": {},
   "outputs": [
    {
     "name": "stdout",
     "output_type": "stream",
     "text": [
      "{'burrito': 0, 'taco': 1}\n"
     ]
    }
   ],
   "source": [
    "print(train_imgs.class_to_idx)"
   ]
  },
  {
   "cell_type": "code",
   "execution_count": 25,
   "id": "5a00fcc5",
   "metadata": {},
   "outputs": [],
   "source": [
    "from torchvision import models\n",
    "\n",
    "# 사전학습 된 resnet18 load\n",
    "net=models.resnet18(pretrained=True)\n",
    "\n",
    "# 모든 파라미터를 미분 대상에서 제외\n",
    "for p in net.parameters():\n",
    "    p.requires_grad=False\n",
    "    \n",
    "#마지막 선형 계층 변경\n",
    "fc_input_dim= net.fc.in_features\n",
    "net.fc=nn.Linear(fc_input_dim,2)"
   ]
  },
  {
   "cell_type": "code",
   "execution_count": 34,
   "id": "1e39235e",
   "metadata": {},
   "outputs": [],
   "source": [
    "def eval_net(net,data_loader,device=\"cpu\"):\n",
    "    #dropout, batchNorm 무효화\n",
    "    net.eval()\n",
    "    ys=[]\n",
    "    ypreds=[]\n",
    "    for x, y in data_loader:\n",
    "        x=x.to(device)\n",
    "        y=y.to(device)\n",
    "        \n",
    "        # 확률이 가장 큰 분류를 예측하고 추론 계산이 전부이므로 자동미분에 필요한 처리를 off 설정해 불필요한 계산을 막음\n",
    "        with torch.no_grad():\n",
    "            _, y_pred=net(x).max(1)\n",
    "        ys.append(y)\n",
    "        ypreds.append(y_pred)\n",
    "        \n",
    "    # 미니 배치 단위의 예측 결과를 하나로 묶음\n",
    "    ys=torch.cat(ys)\n",
    "    ypreds=torch.cat(ypreds)\n",
    "    \n",
    "    # 예측 정확도 계산\n",
    "    acc=(ys==ypreds).float().sum()/len(ys)\n",
    "    return acc.item()\n",
    "\n",
    "def train_net(net,train_loader, test_loader, only_fc=True, \n",
    "              optimizer_cls=optim.Adam, loss_fn=nn.CrossEntropyLoss(), n_iter=10, device=\"cpu\"):\n",
    "    train_losses=[]\n",
    "    train_acc=[]\n",
    "    val_acc=[]\n",
    "    if only_fc:\n",
    "        #마지막 선형 계층의 파라미터만 optim에 전달\n",
    "        optim=optimizer_cls(net.fc.parameters())\n",
    "    else:\n",
    "        optim=optimizer_cls(net.parameters())\n",
    "        \n",
    "    for e in range(n_iter):\n",
    "        running_loss=0.0\n",
    "        #신경망을 훈련 모드로 설정\n",
    "        \n",
    "        net.train()\n",
    "        n=0\n",
    "        n_acc=0\n",
    "        \n",
    "        for i,(xx,yy) in tqdm.tqdm(enumerate(train_loader),\n",
    "                                  total=len(train_loader)):\n",
    "                xx=xx.to(device)\n",
    "                yy=yy.to(device)\n",
    "\n",
    "                h=net(xx)\n",
    "                loss=loss_fn(h,yy)\n",
    "                optim.zero_grad()\n",
    "                loss.backward()\n",
    "                optim.step()\n",
    "\n",
    "                running_loss += loss.item()\n",
    "                n+=len(xx)\n",
    "                _,y_pred=h.max(1)\n",
    "                n_acc += (yy==y_pred).float().sum().item()\n",
    "                \n",
    "                #훈련 데이터의 예측 정확도\n",
    "        train_losses.append(running_loss/i)\n",
    "        train_acc.append(n_acc/n)\n",
    "            \n",
    "                #검증 데이터의 예측 정확도\n",
    "        val_acc.append(eval_net(net,test_loader,device))\n",
    "                #에포크 결과 표시\n",
    "        print(e,train_losses[-1], train_acc[-1], val_acc[-1],flush=True)"
   ]
  },
  {
   "cell_type": "code",
   "execution_count": 35,
   "id": "15f59033",
   "metadata": {},
   "outputs": [
    {
     "name": "stderr",
     "output_type": "stream",
     "text": [
      "100%|██████████████████████████████████████████████████████████████████████████████████| 23/23 [00:03<00:00,  6.49it/s]\n"
     ]
    },
    {
     "name": "stdout",
     "output_type": "stream",
     "text": [
      "0 0.70616700026122 0.5786516853932584 0.6432584524154663\n"
     ]
    },
    {
     "name": "stderr",
     "output_type": "stream",
     "text": [
      "100%|██████████████████████████████████████████████████████████████████████████████████| 23/23 [00:04<00:00,  5.68it/s]\n"
     ]
    },
    {
     "name": "stdout",
     "output_type": "stream",
     "text": [
      "1 0.555159639228474 0.7542134831460674 0.8117977380752563\n"
     ]
    },
    {
     "name": "stderr",
     "output_type": "stream",
     "text": [
      "100%|██████████████████████████████████████████████████████████████████████████████████| 23/23 [00:03<00:00,  5.79it/s]\n"
     ]
    },
    {
     "name": "stdout",
     "output_type": "stream",
     "text": [
      "2 0.48321575874632056 0.7794943820224719 0.8019663095474243\n"
     ]
    },
    {
     "name": "stderr",
     "output_type": "stream",
     "text": [
      "100%|██████████████████████████████████████████████████████████████████████████████████| 23/23 [00:04<00:00,  5.15it/s]\n"
     ]
    },
    {
     "name": "stdout",
     "output_type": "stream",
     "text": [
      "3 0.42564925145019183 0.827247191011236 0.8356741666793823\n"
     ]
    },
    {
     "name": "stderr",
     "output_type": "stream",
     "text": [
      "100%|██████████████████████████████████████████████████████████████████████████████████| 23/23 [00:04<00:00,  5.56it/s]\n"
     ]
    },
    {
     "name": "stdout",
     "output_type": "stream",
     "text": [
      "4 0.4260857674208554 0.8146067415730337 0.8525280952453613\n"
     ]
    },
    {
     "name": "stderr",
     "output_type": "stream",
     "text": [
      "100%|██████████████████████████████████████████████████████████████████████████████████| 23/23 [00:04<00:00,  4.72it/s]\n"
     ]
    },
    {
     "name": "stdout",
     "output_type": "stream",
     "text": [
      "5 0.4224023371934891 0.8356741573033708 0.8539326190948486\n"
     ]
    },
    {
     "name": "stderr",
     "output_type": "stream",
     "text": [
      "100%|██████████████████████████████████████████████████████████████████████████████████| 23/23 [00:04<00:00,  5.36it/s]\n"
     ]
    },
    {
     "name": "stdout",
     "output_type": "stream",
     "text": [
      "6 0.36094060811129486 0.8553370786516854 0.8848314881324768\n"
     ]
    },
    {
     "name": "stderr",
     "output_type": "stream",
     "text": [
      "100%|██████████████████████████████████████████████████████████████████████████████████| 23/23 [00:04<00:00,  4.74it/s]\n"
     ]
    },
    {
     "name": "stdout",
     "output_type": "stream",
     "text": [
      "7 0.38520517132499 0.8525280898876404 0.8637640476226807\n"
     ]
    },
    {
     "name": "stderr",
     "output_type": "stream",
     "text": [
      "100%|██████████████████████████████████████████████████████████████████████████████████| 23/23 [00:04<00:00,  5.57it/s]\n"
     ]
    },
    {
     "name": "stdout",
     "output_type": "stream",
     "text": [
      "8 0.39140100506218994 0.8286516853932584 0.8834269642829895\n"
     ]
    },
    {
     "name": "stderr",
     "output_type": "stream",
     "text": [
      "100%|██████████████████████████████████████████████████████████████████████████████████| 23/23 [00:04<00:00,  4.73it/s]\n"
     ]
    },
    {
     "name": "stdout",
     "output_type": "stream",
     "text": [
      "9 0.33795344761826773 0.851123595505618 0.8778089880943298\n"
     ]
    },
    {
     "name": "stderr",
     "output_type": "stream",
     "text": [
      "100%|██████████████████████████████████████████████████████████████████████████████████| 23/23 [00:04<00:00,  5.48it/s]\n"
     ]
    },
    {
     "name": "stdout",
     "output_type": "stream",
     "text": [
      "10 0.34171312302351 0.8595505617977528 0.8595505952835083\n"
     ]
    },
    {
     "name": "stderr",
     "output_type": "stream",
     "text": [
      "100%|██████████████████████████████████████████████████████████████████████████████████| 23/23 [00:04<00:00,  4.66it/s]\n"
     ]
    },
    {
     "name": "stdout",
     "output_type": "stream",
     "text": [
      "11 0.33430527963421564 0.8567415730337079 0.8932584524154663\n"
     ]
    },
    {
     "name": "stderr",
     "output_type": "stream",
     "text": [
      "100%|██████████████████████████████████████████████████████████████████████████████████| 23/23 [00:04<00:00,  5.42it/s]\n"
     ]
    },
    {
     "name": "stdout",
     "output_type": "stream",
     "text": [
      "12 0.33752114325761795 0.8553370786516854 0.8806179761886597\n"
     ]
    },
    {
     "name": "stderr",
     "output_type": "stream",
     "text": [
      "100%|██████████████████████████████████████████████████████████████████████████████████| 23/23 [00:04<00:00,  4.85it/s]\n"
     ]
    },
    {
     "name": "stdout",
     "output_type": "stream",
     "text": [
      "13 0.35211471942338074 0.8539325842696629 0.8469101190567017\n"
     ]
    },
    {
     "name": "stderr",
     "output_type": "stream",
     "text": [
      "100%|██████████████████████████████████████████████████████████████████████████████████| 23/23 [00:04<00:00,  5.41it/s]\n"
     ]
    },
    {
     "name": "stdout",
     "output_type": "stream",
     "text": [
      "14 0.33214459161866794 0.8595505617977528 0.9073033928871155\n"
     ]
    },
    {
     "name": "stderr",
     "output_type": "stream",
     "text": [
      "100%|██████████████████████████████████████████████████████████████████████████████████| 23/23 [00:04<00:00,  4.83it/s]\n"
     ]
    },
    {
     "name": "stdout",
     "output_type": "stream",
     "text": [
      "15 0.32269449667497113 0.8693820224719101 0.8890449404716492\n"
     ]
    },
    {
     "name": "stderr",
     "output_type": "stream",
     "text": [
      "100%|██████████████████████████████████████████████████████████████████████████████████| 23/23 [00:04<00:00,  5.36it/s]\n"
     ]
    },
    {
     "name": "stdout",
     "output_type": "stream",
     "text": [
      "16 0.30190710520202463 0.8778089887640449 0.8792135119438171\n"
     ]
    },
    {
     "name": "stderr",
     "output_type": "stream",
     "text": [
      "100%|██████████████████████████████████████████████████████████████████████████████████| 23/23 [00:04<00:00,  4.79it/s]\n"
     ]
    },
    {
     "name": "stdout",
     "output_type": "stream",
     "text": [
      "17 0.3241460201415149 0.8820224719101124 0.8876404762268066\n"
     ]
    },
    {
     "name": "stderr",
     "output_type": "stream",
     "text": [
      "100%|██████████████████████████████████████████████████████████████████████████████████| 23/23 [00:04<00:00,  5.41it/s]\n"
     ]
    },
    {
     "name": "stdout",
     "output_type": "stream",
     "text": [
      "18 0.305034302175045 0.875 0.8862359523773193\n"
     ]
    },
    {
     "name": "stderr",
     "output_type": "stream",
     "text": [
      "100%|██████████████████████████████████████████████████████████████████████████████████| 23/23 [00:04<00:00,  4.71it/s]\n"
     ]
    },
    {
     "name": "stdout",
     "output_type": "stream",
     "text": [
      "19 0.32382800633257086 0.8679775280898876 0.8637640476226807\n"
     ]
    }
   ],
   "source": [
    "# 신경망 파라미터 gpu전송\n",
    "net.to(\"cuda:0\")\n",
    "\n",
    "train_net(net,train_loader,test_loader,n_iter=20,device=\"cuda:0\")"
   ]
  },
  {
   "cell_type": "code",
   "execution_count": 36,
   "id": "ddc37185",
   "metadata": {},
   "outputs": [],
   "source": [
    "class FlattenLayer(nn.Module):\n",
    "    def forward(self,x):\n",
    "        sizes=x.size()\n",
    "        return x.view(sizes[0],-1)\n",
    "    \n",
    "class IdentityLayer(nn.Module):\n",
    "    def forward(self,x):\n",
    "        return x\n",
    "    \n",
    "net=models.resnet18(pretrained=True)\n",
    "for p in net.parameters():\n",
    "    p.requires_grad=True\n",
    "net.fc=IdentityLayer()"
   ]
  },
  {
   "cell_type": "code",
   "execution_count": 39,
   "id": "0e842f1a",
   "metadata": {},
   "outputs": [
    {
     "name": "stderr",
     "output_type": "stream",
     "text": [
      "100%|██████████████████████████████████████████████████████████████████████████████████| 23/23 [00:04<00:00,  4.94it/s]\n"
     ]
    },
    {
     "name": "stdout",
     "output_type": "stream",
     "text": [
      "0 4.457436770200729 0.5955056179775281 0.574438214302063\n"
     ]
    },
    {
     "name": "stderr",
     "output_type": "stream",
     "text": [
      "100%|██████████████████████████████████████████████████████████████████████████████████| 23/23 [00:04<00:00,  4.93it/s]\n"
     ]
    },
    {
     "name": "stdout",
     "output_type": "stream",
     "text": [
      "1 5.243909196420149 0.6123595505617978 0.574438214302063\n"
     ]
    },
    {
     "name": "stderr",
     "output_type": "stream",
     "text": [
      "100%|██████████████████████████████████████████████████████████████████████████████████| 23/23 [00:04<00:00,  5.02it/s]\n"
     ]
    },
    {
     "name": "stdout",
     "output_type": "stream",
     "text": [
      "2 5.491044158285314 0.6264044943820225 0.5814606547355652\n"
     ]
    },
    {
     "name": "stderr",
     "output_type": "stream",
     "text": [
      "100%|██████████████████████████████████████████████████████████████████████████████████| 23/23 [00:04<00:00,  4.72it/s]\n"
     ]
    },
    {
     "name": "stdout",
     "output_type": "stream",
     "text": [
      "3 5.282716469331221 0.6123595505617978 0.6376404762268066\n"
     ]
    },
    {
     "name": "stderr",
     "output_type": "stream",
     "text": [
      "100%|██████████████████████████████████████████████████████████████████████████████████| 23/23 [00:04<00:00,  4.61it/s]\n"
     ]
    },
    {
     "name": "stdout",
     "output_type": "stream",
     "text": [
      "4 4.78505802154541 0.648876404494382 0.5814606547355652\n"
     ]
    },
    {
     "name": "stderr",
     "output_type": "stream",
     "text": [
      "100%|██████████████████████████████████████████████████████████████████████████████████| 23/23 [00:05<00:00,  4.51it/s]\n"
     ]
    },
    {
     "name": "stdout",
     "output_type": "stream",
     "text": [
      "5 6.383512843738902 0.6179775280898876 0.6376404762268066\n"
     ]
    },
    {
     "name": "stderr",
     "output_type": "stream",
     "text": [
      "100%|██████████████████████████████████████████████████████████████████████████████████| 23/23 [00:05<00:00,  4.53it/s]\n"
     ]
    },
    {
     "name": "stdout",
     "output_type": "stream",
     "text": [
      "6 5.3460775938901035 0.6278089887640449 0.648876428604126\n"
     ]
    },
    {
     "name": "stderr",
     "output_type": "stream",
     "text": [
      "100%|██████████████████████████████████████████████████████████████████████████████████| 23/23 [00:05<00:00,  4.52it/s]\n"
     ]
    },
    {
     "name": "stdout",
     "output_type": "stream",
     "text": [
      "7 4.545733088796789 0.6910112359550562 0.6797752976417542\n"
     ]
    },
    {
     "name": "stderr",
     "output_type": "stream",
     "text": [
      "100%|██████████████████████████████████████████████████████████████████████████████████| 23/23 [00:05<00:00,  4.52it/s]\n"
     ]
    },
    {
     "name": "stdout",
     "output_type": "stream",
     "text": [
      "8 4.555075751109556 0.6853932584269663 0.632022500038147\n"
     ]
    },
    {
     "name": "stderr",
     "output_type": "stream",
     "text": [
      "100%|██████████████████████████████████████████████████████████████████████████████████| 23/23 [00:05<00:00,  4.53it/s]\n"
     ]
    },
    {
     "name": "stdout",
     "output_type": "stream",
     "text": [
      "9 4.291507902586917 0.6839887640449438 0.6067416071891785\n"
     ]
    }
   ],
   "source": [
    "conv_net=nn.Sequential(\n",
    "    nn.Conv2d(3,32,5),\n",
    "    nn.MaxPool2d(2),\n",
    "    nn.ReLU(),\n",
    "    nn.BatchNorm2d(32),\n",
    "    \n",
    "    nn.Conv2d(32,64,5),\n",
    "    nn.MaxPool2d(2),\n",
    "    nn.ReLU(),\n",
    "    nn.BatchNorm2d(64),\n",
    "    \n",
    "    nn.Conv2d(64,128,5),\n",
    "    nn.MaxPool2d(2),\n",
    "    nn.ReLU(),\n",
    "    nn.BatchNorm2d(128),\n",
    "    FlattenLayer()\n",
    ")\n",
    "\n",
    "# 합성곱에 의해 어떤 크기인지 데이터를 넣어서 확인\n",
    "test_input=torch.ones(1,3,224,224)\n",
    "conv_output_size=conv_net(test_input).size()[-1]\n",
    "\n",
    "#최종 CNN\n",
    "net=nn.Sequential(\n",
    "    conv_net,\n",
    "    nn.Linear(conv_output_size,2)\n",
    ")\n",
    "\n",
    "net.to(\"cuda:0\")\n",
    "\n",
    "train_net(net,train_loader,test_loader,n_iter=10,only_fc=False,device=\"cuda:0\")"
   ]
  },
  {
   "cell_type": "code",
   "execution_count": null,
   "id": "4f0077d0",
   "metadata": {},
   "outputs": [],
   "source": []
  }
 ],
 "metadata": {
  "kernelspec": {
   "display_name": "Python 3 (ipykernel)",
   "language": "python",
   "name": "python3"
  },
  "language_info": {
   "codemirror_mode": {
    "name": "ipython",
    "version": 3
   },
   "file_extension": ".py",
   "mimetype": "text/x-python",
   "name": "python",
   "nbconvert_exporter": "python",
   "pygments_lexer": "ipython3",
   "version": "3.10.8"
  },
  "toc": {
   "base_numbering": 1,
   "nav_menu": {},
   "number_sections": true,
   "sideBar": true,
   "skip_h1_title": false,
   "title_cell": "Table of Contents",
   "title_sidebar": "Contents",
   "toc_cell": false,
   "toc_position": {},
   "toc_section_display": true,
   "toc_window_display": false
  }
 },
 "nbformat": 4,
 "nbformat_minor": 5
}
