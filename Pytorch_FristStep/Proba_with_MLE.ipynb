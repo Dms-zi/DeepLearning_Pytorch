{
 "cells": [
  {
   "cell_type": "markdown",
   "id": "3cc0c8dd",
   "metadata": {},
   "source": [
    "# 확률 모델과 최대 우도 추정\n",
    "probability and Maximum Likelihood Estimation\n",
    "\n",
    "- 확률 모델 : 변수 x가 파라미터 세타를 지니는 확률 분포(P(x|세타))로부터 생성된다고 가정하는 모델\n",
    "    - x가 연속 변수일 경우 정규 분포가 될 수 있음\n",
    "    - 이산 변수일 경우 베르누이 분포가 될 수 있음\n",
    "\n",
    "- 우도: 서로 독립된 n개의 데이터가 주어졌을 때 다음과 같이 각 데이터의 확률 함수 값의 곱을 세타의 함수라고 하면 세타가 가능 정도가 되며 우도라고 부름\n",
    "    - 또는 주어진 데이터가 모델에 얼마나 적합한지에 대한 조건부 확률(발생 확률을 나타내는 함수)"
   ]
  },
  {
   "cell_type": "markdown",
   "id": "c2478b2f",
   "metadata": {},
   "source": [
    "# 선형회귀 모델 구현"
   ]
  },
  {
   "cell_type": "markdown",
   "id": "468c8dd7",
   "metadata": {},
   "source": [
    "## 테스트 데이터 생성 및 파라미터 학습을 위한 변수 정의"
   ]
  },
  {
   "cell_type": "code",
   "execution_count": 1,
   "id": "77c5d981",
   "metadata": {},
   "outputs": [],
   "source": [
    "import torch\n",
    "\n",
    "# 참의 계수\n",
    "w_true=torch.Tensor([1,2,3])\n",
    "\n",
    "#X 데이터, 절편을 회귀계수에 포함, X의 최초 차원에|1 추가\n",
    "X=torch.cat([torch.ones(100,1), torch.randn(100,2)],1)\n",
    "\n",
    "#참의 계수와 각 X의 내적을 햏렬과 벡터의 곱으로 모아서 계산\n",
    "y=torch.mv(X,w_true) + torch.randn(100)*0.5\n",
    "\n",
    "#기울기 하강으로 최적화 하기 위해 파라미터 tensor를 난수로 초기화\n",
    "w=torch.randn(3, requires_grad=True)\n",
    "#학습률\n",
    "learning_rate=0.1"
   ]
  },
  {
   "cell_type": "markdown",
   "id": "fad788ae",
   "metadata": {},
   "source": [
    "## 경사 하강법으로 파라미터 최적화"
   ]
  },
  {
   "cell_type": "code",
   "execution_count": 2,
   "id": "3c8c6602",
   "metadata": {},
   "outputs": [],
   "source": [
    "losses=[]\n",
    "\n",
    "#100회 반복\n",
    "for e in range(100):\n",
    "    w.grad=None # 전회 역전파로 계산된 경사값 초기화, optimizer zero_grad\n",
    "    \n",
    "    #y 값 예측\n",
    "    y_pred=torch.mv(X,w)\n",
    "    \n",
    "    # MSE loss, w grad 계산\n",
    "    loss=torch.mean((y-y_pred)**2)\n",
    "    loss.backward()\n",
    "    \n",
    "    # 경사 갱신(계산 그래프 유지를 위해 .data만 갱신\n",
    "    w.data=w.data-learning_rate*w.grad.data\n",
    "    \n",
    "    #수렴확인을 위한 loss기록\n",
    "    losses.append(loss.item())"
   ]
  },
  {
   "cell_type": "code",
   "execution_count": 3,
   "id": "7da5f00a",
   "metadata": {},
   "outputs": [
    {
     "data": {
      "text/plain": [
       "tensor([0.9178, 1.9964, 3.0660], requires_grad=True)"
      ]
     },
     "execution_count": 3,
     "metadata": {},
     "output_type": "execute_result"
    }
   ],
   "source": [
    "w"
   ]
  },
  {
   "cell_type": "markdown",
   "id": "f67c7c8b",
   "metadata": {},
   "source": [
    "# nn, optim 모듈 사용"
   ]
  },
  {
   "cell_type": "code",
   "execution_count": 4,
   "id": "f4489d5a",
   "metadata": {},
   "outputs": [],
   "source": [
    "from torch import nn, optim\n",
    "\n",
    "#선형층 작성, 절편이 회귀 계수에 포함되므로 입력차원을 3, 바이어스를 false\n",
    "net=nn.Linear(in_features=3, out_features=1, bias=False)\n",
    "\n",
    "# sgd 최적화기상에서 정의한 네트어크의 파라미터를 전달해 초기화\n",
    "opti=optim.SGD(net.parameters(),lr=0.1)\n",
    "\n",
    "#MSE loss\n",
    "loss_fn=nn.MSELoss()"
   ]
  },
  {
   "cell_type": "code",
   "execution_count": 5,
   "id": "fae5cbbd",
   "metadata": {},
   "outputs": [],
   "source": [
    "losses=[]\n",
    "\n",
    "#100회 반복\n",
    "for e in range(100):\n",
    "    opti.zero_grad()\n",
    "    \n",
    "    #y 값 예측\n",
    "    y_pred=net(X)\n",
    "    \n",
    "    # MSE loss, w grad 계산\n",
    "    loss=loss_fn(y_pred.view_as(y),y)\n",
    "    loss.backward()\n",
    "    \n",
    "    # 경사 갱신(계산 그래프 유지를 위해 .data만 갱신\n",
    "    opti.step()\n",
    "    \n",
    "    #수렴확인을 위한 loss기록\n",
    "    losses.append(loss.item())"
   ]
  },
  {
   "cell_type": "code",
   "execution_count": 6,
   "id": "5eada127",
   "metadata": {},
   "outputs": [
    {
     "data": {
      "text/plain": [
       "[Parameter containing:\n",
       " tensor([[0.9178, 1.9964, 3.0660]], requires_grad=True)]"
      ]
     },
     "execution_count": 6,
     "metadata": {},
     "output_type": "execute_result"
    }
   ],
   "source": [
    "list(net.parameters())"
   ]
  },
  {
   "cell_type": "markdown",
   "id": "bcb9f376",
   "metadata": {},
   "source": [
    "# 로지스틱 회귀 분석"
   ]
  },
  {
   "cell_type": "code",
   "execution_count": 22,
   "id": "8648b79f",
   "metadata": {},
   "outputs": [],
   "source": [
    "import torch\n",
    "from torch import nn, optim\n",
    "from sklearn.datasets import load_iris\n",
    "iris=load_iris()\n",
    "\n",
    "# 3가지의 꽃 종류중 두가지만 사용\n",
    "x=iris.data[:100]\n",
    "y=iris.target[:100]\n",
    "\n",
    "#tensor 변환\n",
    "x=torch.tensor(x,dtype=torch.float32)\n",
    "y=torch.tensor(y,dtype=torch.float32)\n",
    "\n",
    "#iris 데이터는 4차원\n",
    "net2=nn.Linear(4,1)\n",
    "\n",
    "#두 클래스의 분류를 위한 크로스 엔트로피 계산\n",
    "loss_fn2=nn.BCEWithLogitsLoss() \n",
    "\n",
    "optim=optim.SGD(net.parameters(),lr=0.25)\n"
   ]
  },
  {
   "cell_type": "code",
   "execution_count": 23,
   "id": "af26c07a",
   "metadata": {},
   "outputs": [],
   "source": [
    "losses=[]\n",
    "\n",
    "#100회 반복\n",
    "for e in range(100):\n",
    "    optim.zero_grad()\n",
    "    \n",
    "    #y 값 예측\n",
    "    y_pred=net2(x)\n",
    "    \n",
    "    # MSE loss, w grad 계산\n",
    "    loss=loss_fn2(y_pred.view_as(y),y)\n",
    "    loss.backward()\n",
    "    \n",
    "    # 경사 갱신(계산 그래프 유지를 위해 .data만 갱신\n",
    "    optim.step()\n",
    "    \n",
    "    #수렴확인을 위한 loss기록\n",
    "    losses.append(loss.item())"
   ]
  },
  {
   "cell_type": "code",
   "execution_count": 24,
   "id": "7ddcae51",
   "metadata": {},
   "outputs": [
    {
     "data": {
      "text/plain": [
       "[Parameter containing:\n",
       " tensor([[-0.0404, -0.2450, -0.4094, -0.1405]], requires_grad=True),\n",
       " Parameter containing:\n",
       " tensor([0.4146], requires_grad=True)]"
      ]
     },
     "execution_count": 24,
     "metadata": {},
     "output_type": "execute_result"
    }
   ],
   "source": [
    "list(net2.parameters())"
   ]
  },
  {
   "cell_type": "code",
   "execution_count": 25,
   "id": "6d7d892c",
   "metadata": {
    "scrolled": true
   },
   "outputs": [
    {
     "data": {
      "text/plain": [
       "50"
      ]
     },
     "execution_count": 25,
     "metadata": {},
     "output_type": "execute_result"
    }
   ],
   "source": [
    "h=net2(x)\n",
    "\n",
    "prob=nn.functional.sigmoid(h)\n",
    "\n",
    "y_pred=prob>0.5\n",
    "\n",
    "(y.byte()==y_pred.view_as(y)).sum().item()"
   ]
  },
  {
   "cell_type": "markdown",
   "id": "1cf75b7d",
   "metadata": {},
   "source": [
    "# 다중분류"
   ]
  },
  {
   "cell_type": "code",
   "execution_count": 28,
   "id": "e4ea3e77",
   "metadata": {},
   "outputs": [],
   "source": [
    "import torch\n",
    "from torch import nn,optim\n",
    "from sklearn.datasets import load_digits\n",
    "digits=load_digits()\n",
    "\n",
    "x=digits.data\n",
    "y=digits.target\n",
    "\n",
    "x=torch.tensor(x,dtype=torch.float32)\n",
    "y=torch.tensor(y,dtype=torch.int64)\n",
    "\n",
    "net=nn.Linear(x.size()[1],10)\n",
    "\n",
    "loss_fn=nn.CrossEntropyLoss()\n",
    "\n",
    "opti=optim.SGD(net.parameters(),lr=0.01)\n"
   ]
  },
  {
   "cell_type": "code",
   "execution_count": 31,
   "id": "ec850bb8",
   "metadata": {},
   "outputs": [],
   "source": [
    "losses=[]\n",
    "\n",
    "#100회 반복\n",
    "for e in range(100):\n",
    "    opti.zero_grad()\n",
    "    \n",
    "    #y 값 예측\n",
    "    y_pred=net(x)\n",
    "    \n",
    "    # MSE loss, w grad 계산\n",
    "    loss=loss_fn(y_pred,y)\n",
    "    loss.backward()\n",
    "    \n",
    "    # 경사 갱신(계산 그래프 유지를 위해 .data만 갱신\n",
    "    opti.step()\n",
    "    \n",
    "    #수렴확인을 위한 loss기록\n",
    "    losses.append(loss.item())"
   ]
  },
  {
   "cell_type": "code",
   "execution_count": 34,
   "id": "7a069c05",
   "metadata": {},
   "outputs": [
    {
     "data": {
      "text/plain": [
       "0.9493600445186422"
      ]
     },
     "execution_count": 34,
     "metadata": {},
     "output_type": "execute_result"
    }
   ],
   "source": [
    "_,y_pred=torch.max(net(x),1)\n",
    "(y_pred==y).sum().item()/len(y)"
   ]
  },
  {
   "cell_type": "code",
   "execution_count": null,
   "id": "0cc10794",
   "metadata": {},
   "outputs": [],
   "source": []
  }
 ],
 "metadata": {
  "kernelspec": {
   "display_name": "Python 3 (ipykernel)",
   "language": "python",
   "name": "python3"
  },
  "language_info": {
   "codemirror_mode": {
    "name": "ipython",
    "version": 3
   },
   "file_extension": ".py",
   "mimetype": "text/x-python",
   "name": "python",
   "nbconvert_exporter": "python",
   "pygments_lexer": "ipython3",
   "version": "3.10.8"
  },
  "toc": {
   "base_numbering": 1,
   "nav_menu": {},
   "number_sections": true,
   "sideBar": true,
   "skip_h1_title": false,
   "title_cell": "Table of Contents",
   "title_sidebar": "Contents",
   "toc_cell": false,
   "toc_position": {},
   "toc_section_display": true,
   "toc_window_display": false
  }
 },
 "nbformat": 4,
 "nbformat_minor": 5
}
