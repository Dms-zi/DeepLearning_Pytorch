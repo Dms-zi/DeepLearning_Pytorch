{
 "cells": [
  {
   "cell_type": "markdown",
   "id": "c86d48a4",
   "metadata": {},
   "source": [
    "# Concolution Neural Network"
   ]
  },
  {
   "cell_type": "markdown",
   "id": "94e94379",
   "metadata": {},
   "source": [
    "## DataLoad"
   ]
  },
  {
   "cell_type": "code",
   "execution_count": 7,
   "id": "a91a1c36",
   "metadata": {},
   "outputs": [],
   "source": [
    "import torch\n",
    "from torch import nn, optim\n",
    "from torch.utils.data import (Dataset,DataLoader,TensorDataset)\n",
    "import tqdm\n",
    "\n",
    "from torchvision.datasets import FashionMNIST\n",
    "from torchvision import transforms"
   ]
  },
  {
   "cell_type": "code",
   "execution_count": 8,
   "id": "259b3038",
   "metadata": {
    "scrolled": true
   },
   "outputs": [
    {
     "name": "stdout",
     "output_type": "stream",
     "text": [
      "Downloading http://fashion-mnist.s3-website.eu-central-1.amazonaws.com/train-images-idx3-ubyte.gz\n",
      "Downloading http://fashion-mnist.s3-website.eu-central-1.amazonaws.com/train-images-idx3-ubyte.gz to Documents/Pytorch_FristStep/Data\\FashionMNIST\\raw\\train-images-idx3-ubyte.gz\n"
     ]
    },
    {
     "data": {
      "application/vnd.jupyter.widget-view+json": {
       "model_id": "5715653f9c584b36a461f674f4a54777",
       "version_major": 2,
       "version_minor": 0
      },
      "text/plain": [
       "  0%|          | 0/26421880 [00:00<?, ?it/s]"
      ]
     },
     "metadata": {},
     "output_type": "display_data"
    },
    {
     "name": "stdout",
     "output_type": "stream",
     "text": [
      "Extracting Documents/Pytorch_FristStep/Data\\FashionMNIST\\raw\\train-images-idx3-ubyte.gz to Documents/Pytorch_FristStep/Data\\FashionMNIST\\raw\n",
      "\n",
      "Downloading http://fashion-mnist.s3-website.eu-central-1.amazonaws.com/train-labels-idx1-ubyte.gz\n",
      "Downloading http://fashion-mnist.s3-website.eu-central-1.amazonaws.com/train-labels-idx1-ubyte.gz to Documents/Pytorch_FristStep/Data\\FashionMNIST\\raw\\train-labels-idx1-ubyte.gz\n"
     ]
    },
    {
     "data": {
      "application/vnd.jupyter.widget-view+json": {
       "model_id": "9c55e86e3d9b4618807f8f358c6134e6",
       "version_major": 2,
       "version_minor": 0
      },
      "text/plain": [
       "  0%|          | 0/29515 [00:00<?, ?it/s]"
      ]
     },
     "metadata": {},
     "output_type": "display_data"
    },
    {
     "name": "stdout",
     "output_type": "stream",
     "text": [
      "Extracting Documents/Pytorch_FristStep/Data\\FashionMNIST\\raw\\train-labels-idx1-ubyte.gz to Documents/Pytorch_FristStep/Data\\FashionMNIST\\raw\n",
      "\n",
      "Downloading http://fashion-mnist.s3-website.eu-central-1.amazonaws.com/t10k-images-idx3-ubyte.gz\n",
      "Downloading http://fashion-mnist.s3-website.eu-central-1.amazonaws.com/t10k-images-idx3-ubyte.gz to Documents/Pytorch_FristStep/Data\\FashionMNIST\\raw\\t10k-images-idx3-ubyte.gz\n"
     ]
    },
    {
     "data": {
      "application/vnd.jupyter.widget-view+json": {
       "model_id": "51ba6d948b6848e6bd5ab8950e43c1fe",
       "version_major": 2,
       "version_minor": 0
      },
      "text/plain": [
       "  0%|          | 0/4422102 [00:00<?, ?it/s]"
      ]
     },
     "metadata": {},
     "output_type": "display_data"
    },
    {
     "name": "stdout",
     "output_type": "stream",
     "text": [
      "Extracting Documents/Pytorch_FristStep/Data\\FashionMNIST\\raw\\t10k-images-idx3-ubyte.gz to Documents/Pytorch_FristStep/Data\\FashionMNIST\\raw\n",
      "\n",
      "Downloading http://fashion-mnist.s3-website.eu-central-1.amazonaws.com/t10k-labels-idx1-ubyte.gz\n",
      "Downloading http://fashion-mnist.s3-website.eu-central-1.amazonaws.com/t10k-labels-idx1-ubyte.gz to Documents/Pytorch_FristStep/Data\\FashionMNIST\\raw\\t10k-labels-idx1-ubyte.gz\n"
     ]
    },
    {
     "data": {
      "application/vnd.jupyter.widget-view+json": {
       "model_id": "74e0528671024a54aac3ba21144083a1",
       "version_major": 2,
       "version_minor": 0
      },
      "text/plain": [
       "  0%|          | 0/5148 [00:00<?, ?it/s]"
      ]
     },
     "metadata": {},
     "output_type": "display_data"
    },
    {
     "name": "stdout",
     "output_type": "stream",
     "text": [
      "Extracting Documents/Pytorch_FristStep/Data\\FashionMNIST\\raw\\t10k-labels-idx1-ubyte.gz to Documents/Pytorch_FristStep/Data\\FashionMNIST\\raw\n",
      "\n"
     ]
    }
   ],
   "source": [
    "# 훈련 데이터 가져오기\n",
    "# PIL -> Tensor\n",
    "fashion_mnist_train=FashionMNIST(\"Documents/Pytorch_FristStep/Data\", train=True, download=True, transform=transforms.ToTensor())\n",
    "\n",
    "#검증 데이터 가져오기\n",
    "fashion_mnist_test=FashionMNIST(\"Documents/Pytorch_FristStep/Data\", train=False, download=True, transform=transforms.ToTensor())\n",
    "\n",
    "#배치 크기 128인 DataLoader 작성\n",
    "batch_size=128\n",
    "train_loader=DataLoader(fashion_mnist_train, batch_size=batch_size, shuffle=True)\n",
    "test_loader=DataLoader(fashion_mnist_test, batch_size=batch_size, shuffle=True)"
   ]
  },
  {
   "cell_type": "markdown",
   "id": "c0ceb1d8",
   "metadata": {},
   "source": [
    "## CNN"
   ]
  },
  {
   "cell_type": "code",
   "execution_count": 12,
   "id": "1a10b5f2",
   "metadata": {},
   "outputs": [],
   "source": [
    "#(N,C,H,W) -> (N, C*H*W) : 합성곱 출력을 MLP에 전달할 때 필요\n",
    "class FlattenLayer(nn.Module):\n",
    "    def forward(self,x):\n",
    "        sizes=x.size()\n",
    "        return x. view(sizes[0],-1)\n",
    "    \n",
    "# 5*5 커널로 32 -> 64개 채널 작성\n",
    "# BatchNorm2d : 이미지용 배치 정규화\n",
    "# Droptout2d : 이미지용 Dropout\n",
    "conv_net= nn.Sequential(\n",
    "    nn.Conv2d(1,32,5),    # in_channel, out_channel, kernel_size\n",
    "    nn.MaxPool2d(2),\n",
    "    nn.ReLU(),\n",
    "    nn.BatchNorm2d(32),\n",
    "    nn.Dropout2d(0.25),\n",
    "    \n",
    "    nn.Conv2d(32,64,5),\n",
    "    nn.MaxPool2d(2),\n",
    "    nn.ReLU(),\n",
    "    nn.BatchNorm2d(64),\n",
    "    nn.Dropout2d(0.25),\n",
    "    \n",
    "    FlattenLayer()\n",
    ")\n",
    "    \n",
    "# 합성곱에 의한 이미지 크기가 어떤지 더미 데이터를 넣어 확인\n",
    "test_input=torch.ones(1,1,28,28)\n",
    "conv_output_size=conv_net(test_input).size()[-1]\n",
    "\n",
    "#2층 MLP\n",
    "mlp=nn.Sequential(\n",
    "    nn.Linear(conv_output_size, 200),\n",
    "    nn.ReLU(),\n",
    "    nn.BatchNorm1d(200),\n",
    "    nn.Dropout(0.25),\n",
    "    nn.Linear(200,10)\n",
    ")\n",
    "\n",
    "#최종 cnn\n",
    "net=nn.Sequential(\n",
    "    conv_net,\n",
    "    mlp\n",
    ")\n"
   ]
  },
  {
   "cell_type": "code",
   "execution_count": 19,
   "id": "ef740727",
   "metadata": {},
   "outputs": [],
   "source": [
    "# 평가용 함수\n",
    "def eval_net(net,data_loader,device=\"cpu\"):\n",
    "        #Dropout, barhnorm 유효화\n",
    "        net.eval()\n",
    "        ys=[]\n",
    "        ypreds=[]\n",
    "        for x, y in data_loader:\n",
    "            x=x.to(device)\n",
    "            y=y.to(device)\n",
    "            \n",
    "            #확률이 가장 큰 분류 예측, 자동미분에 필요한 처리는 off로 설정해 불필요한 계산 제한\n",
    "        with torch.no_grad():\n",
    "            _,y_pred=net(x).max(1)\n",
    "            ys.append(y)\n",
    "            ypreds.append(y_pred)\n",
    "        \n",
    "        #미니 배치 단위의 예측 결과를 하나로 묶음\n",
    "        ys=torch.cat(ys)\n",
    "        ypreds=torch.cat(ypreds)\n",
    "             \n",
    "        #accuracy\n",
    "        acc=(ys==ypreds).float().sum()/len(ys)\n",
    "        return acc.item()\n",
    "        \n",
    "# 훈련용 함수\n",
    "def train_net(net,train_loader,test_loader,optimizer_cls=optim.Adam,loss_fn=nn.CrossEntropyLoss(), n_iter=10, device=\"cpu\"):\n",
    "    train_losses=[]\n",
    "    train_acc=[]\n",
    "    val_acc=[]\n",
    "    \n",
    "    optim=optimizer_cls(net.parameters())\n",
    "    for e in range(n_iter):\n",
    "        running_loss=0.0\n",
    "        \n",
    "        #신경망을 훈련 모드로 설정\n",
    "        net.train()\n",
    "        n=0\n",
    "        n_acc=0\n",
    "        \n",
    "        for i,(xx,yy) in tqdm.tqdm(enumerate(train_loader),total=len(train_loader)):\n",
    "            xx=xx.to(device)\n",
    "            yy=yy.to(device)\n",
    "            \n",
    "            h=net(xx)\n",
    "            loss=loss_fn(h,yy)\n",
    "            optim.zero_grad()\n",
    "            \n",
    "            loss.backward()\n",
    "            optim.step()\n",
    "            \n",
    "            running_loss+=loss.item()\n",
    "            n += len(xx)\n",
    "            \n",
    "            _,y_pred=h.max(1)\n",
    "            n_acc += (yy==y_pred).float().sum().item()\n",
    "        train_losses.append(running_loss /i)\n",
    "        \n",
    "        #훈련 데이터 예측 정확도\n",
    "        train_acc.append(n_acc/n)\n",
    "        \n",
    "        #검증 데이터 예측 정화곧\n",
    "        val_acc.append(eval_net(net,test_loader,device))\n",
    "        #epoch 결과 표시\n",
    "        print(e,train_losses[-1],train_acc[-1],val_acc[-1],flush=True)\n",
    "\n",
    "            "
   ]
  },
  {
   "cell_type": "code",
   "execution_count": 20,
   "id": "f731e7af",
   "metadata": {},
   "outputs": [
    {
     "name": "stderr",
     "output_type": "stream",
     "text": [
      "100%|████████████████████████████████████████████████████████████████████████████████| 469/469 [00:12<00:00, 36.21it/s]\n"
     ]
    },
    {
     "name": "stdout",
     "output_type": "stream",
     "text": [
      "0 0.32850918161053944 0.88015 0.6875\n"
     ]
    },
    {
     "name": "stderr",
     "output_type": "stream",
     "text": [
      "100%|████████████████████████████████████████████████████████████████████████████████| 469/469 [00:12<00:00, 36.29it/s]\n"
     ]
    },
    {
     "name": "stdout",
     "output_type": "stream",
     "text": [
      "1 0.28915331644825953 0.8941666666666667 0.8125\n"
     ]
    },
    {
     "name": "stderr",
     "output_type": "stream",
     "text": [
      "100%|████████████████████████████████████████████████████████████████████████████████| 469/469 [00:13<00:00, 35.82it/s]\n"
     ]
    },
    {
     "name": "stdout",
     "output_type": "stream",
     "text": [
      "2 0.26432550825879103 0.9022333333333333 0.625\n"
     ]
    },
    {
     "name": "stderr",
     "output_type": "stream",
     "text": [
      "100%|████████████████████████████████████████████████████████████████████████████████| 469/469 [00:13<00:00, 35.95it/s]\n"
     ]
    },
    {
     "name": "stdout",
     "output_type": "stream",
     "text": [
      "3 0.24579757291218665 0.9093166666666667 1.0\n"
     ]
    },
    {
     "name": "stderr",
     "output_type": "stream",
     "text": [
      "100%|████████████████████████████████████████████████████████████████████████████████| 469/469 [00:13<00:00, 35.75it/s]\n"
     ]
    },
    {
     "name": "stdout",
     "output_type": "stream",
     "text": [
      "4 0.23483772123726004 0.9131 0.9375\n"
     ]
    },
    {
     "name": "stderr",
     "output_type": "stream",
     "text": [
      "100%|████████████████████████████████████████████████████████████████████████████████| 469/469 [00:13<00:00, 35.41it/s]\n"
     ]
    },
    {
     "name": "stdout",
     "output_type": "stream",
     "text": [
      "5 0.22270567823424298 0.9176833333333333 0.875\n"
     ]
    },
    {
     "name": "stderr",
     "output_type": "stream",
     "text": [
      "100%|████████████████████████████████████████████████████████████████████████████████| 469/469 [00:13<00:00, 35.75it/s]\n"
     ]
    },
    {
     "name": "stdout",
     "output_type": "stream",
     "text": [
      "6 0.2149942409661081 0.9186666666666666 0.9375\n"
     ]
    },
    {
     "name": "stderr",
     "output_type": "stream",
     "text": [
      "100%|████████████████████████████████████████████████████████████████████████████████| 469/469 [00:13<00:00, 35.96it/s]\n"
     ]
    },
    {
     "name": "stdout",
     "output_type": "stream",
     "text": [
      "7 0.20874602218660024 0.92345 0.75\n"
     ]
    },
    {
     "name": "stderr",
     "output_type": "stream",
     "text": [
      "100%|████████████████████████████████████████████████████████████████████████████████| 469/469 [00:12<00:00, 36.20it/s]\n"
     ]
    },
    {
     "name": "stdout",
     "output_type": "stream",
     "text": [
      "8 0.20108485209126759 0.9252333333333334 1.0\n"
     ]
    },
    {
     "name": "stderr",
     "output_type": "stream",
     "text": [
      "100%|████████████████████████████████████████████████████████████████████████████████| 469/469 [00:13<00:00, 35.03it/s]\n"
     ]
    },
    {
     "name": "stdout",
     "output_type": "stream",
     "text": [
      "9 0.19256968415764153 0.9273166666666667 0.9375\n"
     ]
    },
    {
     "name": "stderr",
     "output_type": "stream",
     "text": [
      "100%|████████████████████████████████████████████████████████████████████████████████| 469/469 [00:13<00:00, 35.12it/s]\n"
     ]
    },
    {
     "name": "stdout",
     "output_type": "stream",
     "text": [
      "10 0.1908406559537109 0.9295166666666667 0.9375\n"
     ]
    },
    {
     "name": "stderr",
     "output_type": "stream",
     "text": [
      "100%|████████████████████████████████████████████████████████████████████████████████| 469/469 [00:13<00:00, 35.54it/s]\n"
     ]
    },
    {
     "name": "stdout",
     "output_type": "stream",
     "text": [
      "11 0.18042628715435663 0.9318833333333333 0.9375\n"
     ]
    },
    {
     "name": "stderr",
     "output_type": "stream",
     "text": [
      "100%|████████████████████████████████████████████████████████████████████████████████| 469/469 [00:13<00:00, 35.19it/s]\n"
     ]
    },
    {
     "name": "stdout",
     "output_type": "stream",
     "text": [
      "12 0.18018527215935737 0.9318666666666666 0.875\n"
     ]
    },
    {
     "name": "stderr",
     "output_type": "stream",
     "text": [
      "100%|████████████████████████████████████████████████████████████████████████████████| 469/469 [00:13<00:00, 35.76it/s]\n"
     ]
    },
    {
     "name": "stdout",
     "output_type": "stream",
     "text": [
      "13 0.17298098939319706 0.9340833333333334 0.8125\n"
     ]
    },
    {
     "name": "stderr",
     "output_type": "stream",
     "text": [
      "100%|████████████████████████████████████████████████████████████████████████████████| 469/469 [00:13<00:00, 34.50it/s]\n"
     ]
    },
    {
     "name": "stdout",
     "output_type": "stream",
     "text": [
      "14 0.16857698664833337 0.9358 0.875\n"
     ]
    },
    {
     "name": "stderr",
     "output_type": "stream",
     "text": [
      "100%|████████████████████████████████████████████████████████████████████████████████| 469/469 [00:13<00:00, 35.40it/s]\n"
     ]
    },
    {
     "name": "stdout",
     "output_type": "stream",
     "text": [
      "15 0.1637427164798873 0.9383666666666667 0.875\n"
     ]
    },
    {
     "name": "stderr",
     "output_type": "stream",
     "text": [
      "100%|████████████████████████████████████████████████████████████████████████████████| 469/469 [00:12<00:00, 36.12it/s]\n"
     ]
    },
    {
     "name": "stdout",
     "output_type": "stream",
     "text": [
      "16 0.16067435391820395 0.9401833333333334 0.9375\n"
     ]
    },
    {
     "name": "stderr",
     "output_type": "stream",
     "text": [
      "100%|████████████████████████████████████████████████████████████████████████████████| 469/469 [00:13<00:00, 35.71it/s]\n"
     ]
    },
    {
     "name": "stdout",
     "output_type": "stream",
     "text": [
      "17 0.15704900685411233 0.9403 0.9375\n"
     ]
    },
    {
     "name": "stderr",
     "output_type": "stream",
     "text": [
      "100%|████████████████████████████████████████████████████████████████████████████████| 469/469 [00:13<00:00, 35.23it/s]\n"
     ]
    },
    {
     "name": "stdout",
     "output_type": "stream",
     "text": [
      "18 0.15109130816581923 0.9438 0.9375\n"
     ]
    },
    {
     "name": "stderr",
     "output_type": "stream",
     "text": [
      "100%|████████████████████████████████████████████████████████████████████████████████| 469/469 [00:12<00:00, 36.35it/s]\n"
     ]
    },
    {
     "name": "stdout",
     "output_type": "stream",
     "text": [
      "19 0.15224995823083526 0.9420166666666666 0.9375\n"
     ]
    }
   ],
   "source": [
    "net.to(\"cuda:0\")\n",
    "\n",
    "train_net(net,train_loader,test_loader,n_iter=20,device=\"cuda:0\")"
   ]
  },
  {
   "cell_type": "code",
   "execution_count": null,
   "id": "ee2a4263",
   "metadata": {},
   "outputs": [],
   "source": []
  }
 ],
 "metadata": {
  "kernelspec": {
   "display_name": "Python 3 (ipykernel)",
   "language": "python",
   "name": "python3"
  },
  "language_info": {
   "codemirror_mode": {
    "name": "ipython",
    "version": 3
   },
   "file_extension": ".py",
   "mimetype": "text/x-python",
   "name": "python",
   "nbconvert_exporter": "python",
   "pygments_lexer": "ipython3",
   "version": "3.10.8"
  },
  "toc": {
   "base_numbering": 1,
   "nav_menu": {},
   "number_sections": true,
   "sideBar": true,
   "skip_h1_title": false,
   "title_cell": "Table of Contents",
   "title_sidebar": "Contents",
   "toc_cell": false,
   "toc_position": {},
   "toc_section_display": true,
   "toc_window_display": false
  }
 },
 "nbformat": 4,
 "nbformat_minor": 5
}
