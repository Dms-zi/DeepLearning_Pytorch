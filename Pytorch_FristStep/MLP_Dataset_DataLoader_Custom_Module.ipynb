{
 "cells": [
  {
   "cell_type": "markdown",
   "id": "e0e39d88",
   "metadata": {},
   "source": [
    "# MLP 작성"
   ]
  },
  {
   "cell_type": "code",
   "execution_count": 3,
   "id": "18951b1b",
   "metadata": {},
   "outputs": [],
   "source": [
    "import torch\n",
    "from torch import nn\n",
    "\n",
    "# 층이 일직선으로 쌓인 feed forward\n",
    "# 64차원 데이터를 받아 변환후 10차원으로 반환\n",
    "# 미분 가능\n",
    "net= nn.Sequential(\n",
    "    nn.Linear(64,32),\n",
    "    nn.ReLU(),\n",
    "    nn.Linear(32,16),\n",
    "    nn.ReLU(),\n",
    "    nn.Linear(16,10))\n"
   ]
  },
  {
   "cell_type": "markdown",
   "id": "f32a5a90",
   "metadata": {},
   "source": [
    "# Dataset DataLoader"
   ]
  },
  {
   "cell_type": "markdown",
   "id": "98824e3e",
   "metadata": {},
   "source": [
    "## TensorDataset"
   ]
  },
  {
   "cell_type": "code",
   "execution_count": 5,
   "id": "057e6b76",
   "metadata": {},
   "outputs": [
    {
     "ename": "NameError",
     "evalue": "name 'x' is not defined",
     "output_type": "error",
     "traceback": [
      "\u001b[1;31m---------------------------------------------------------------------------\u001b[0m",
      "\u001b[1;31mNameError\u001b[0m                                 Traceback (most recent call last)",
      "Cell \u001b[1;32mIn[5], line 8\u001b[0m\n\u001b[0;32m      6\u001b[0m digits\u001b[38;5;241m=\u001b[39mload_digits()\n\u001b[0;32m      7\u001b[0m \u001b[38;5;66;03m#Dataset\u001b[39;00m\n\u001b[1;32m----> 8\u001b[0m ds\u001b[38;5;241m=\u001b[39mTensorDataset(\u001b[43mx\u001b[49m,y)\n\u001b[0;32m     10\u001b[0m \u001b[38;5;66;03m#섞어서 64개씩 데이터를 반환하는 DataLoader 작성\u001b[39;00m\n\u001b[0;32m     11\u001b[0m loader\u001b[38;5;241m=\u001b[39mDataLoader(Ds,batch_size\u001b[38;5;241m=\u001b[39m\u001b[38;5;241m64\u001b[39m, shuffle\u001b[38;5;241m=\u001b[39m\u001b[38;5;28;01mTrue\u001b[39;00m)\n",
      "\u001b[1;31mNameError\u001b[0m: name 'x' is not defined"
     ]
    }
   ],
   "source": [
    "import torch\n",
    "from torch import nn, optim\n",
    "from torch.utils.data import TensorDataset,DataLoader\n",
    "from sklearn.model_selection import train_test_split\n",
    "from sklearn.datasets import load_digits\n",
    "digits=load_digits()\n",
    "#Dataset\n",
    "ds=TensorDataset(x,y)\n",
    "\n",
    "#섞어서 64개씩 데이터를 반환하는 DataLoader 작성\n",
    "loader=DataLoader(Ds,batch_size=64, shuffle=True)\n",
    "\n",
    "\n",
    "net= nn.Sequential(\n",
    "    nn.Linear(64,32),\n",
    "    nn.ReLU(),\n",
    "    nn.Linear(32,16),\n",
    "    nn.ReLU(),\n",
    "    nn.Linear(16,10)\n",
    ")\n",
    "\n",
    "loss_fn=nn.CrossEntropyLoss()\n",
    "optim=optim.Adam(net.parameters())\n",
    "\n",
    "#최적화\n",
    "losses=[]\n",
    "epo=10\n",
    "for e in range(epo):\n",
    "    running_loss=0.0\n",
    "    \n",
    "    # 64개씩 받음\n",
    "    for xx,yy in loader:\n",
    "        y_pred=net(xx)\n",
    "        \n",
    "        loss=loss_fn(y_pred,yy)\n",
    "        \n",
    "        opti.zero_grad()\n",
    "        \n",
    "        loss.backward()\n",
    "        optim.step()\n",
    "        \n",
    "        running_loss+=loss.item()\n",
    "    losses.append(running_loss)\n"
   ]
  },
  {
   "cell_type": "markdown",
   "id": "c5d3a79c",
   "metadata": {},
   "source": [
    "# Dropout"
   ]
  },
  {
   "cell_type": "code",
   "execution_count": 7,
   "id": "543b5ada",
   "metadata": {},
   "outputs": [],
   "source": [
    "import torch\n",
    "from torch import nn, optim\n",
    "from sklearn.datasets import load_digits\n",
    "from sklearn.model_selection import train_test_split\n",
    "\n",
    "# 30% 검증\n",
    "digits=load_digits()\n",
    "x=digits.data\n",
    "y=digits.target\n",
    "X_train,X_test,Y_train,Y_test = train_test_split(x,y,test_size=0.3)\n",
    "\n",
    "X_train = torch.tensor(X_train, dtype=torch.float32)\n",
    "Y_train = torch.tensor(Y_train, dtype=torch.int64)\n",
    "X_test = torch.tensor(X_test, dtype=torch.float32)\n",
    "Y_test = torch.tensor(Y_test, dtype=torch.int64)\n",
    "\n",
    "k=100\n",
    "net= nn.Sequential(\n",
    "    nn.Linear(64,k),\n",
    "    \n",
    "    nn.ReLU(),\n",
    "    nn.Dropout(0.5),\n",
    "    nn.Linear(k,k),\n",
    "    nn.ReLU(),\n",
    "    nn.Dropout(0.5),\n",
    "    nn.Linear(k,k),\n",
    "    nn.ReLU(),\n",
    "    nn.Dropout(0.5),\n",
    "    nn.Linear(k,k),\n",
    "    nn.ReLU(),\n",
    "    nn.Dropout(0.5),\n",
    "    nn.Linear(k,10)\n",
    ")\n",
    "\n",
    "loss_fn=nn.CrossEntropyLoss()\n",
    "\n",
    "optim=optim.Adam(net.parameters())\n",
    "\n",
    "# 훈련용 데이터 셋\n",
    "ds=TensorDataset(X_train, Y_train)\n",
    "loader=DataLoader(ds, batch_size=32, shuffle=True)\n"
   ]
  },
  {
   "cell_type": "code",
   "execution_count": 11,
   "id": "f07e2b2f",
   "metadata": {},
   "outputs": [],
   "source": [
    "train_losses=[]\n",
    "test_losses=[]\n",
    "epo=100\n",
    "\n",
    "for e in range(epo):\n",
    "    running_loss=0.0\n",
    "    net.train()\n",
    "    for i, (xx,yy) in enumerate(loader):\n",
    "        y_pred=net(xx)\n",
    "        loss=loss_fn(y_pred,yy)\n",
    "        \n",
    "        optim.zero_grad()\n",
    "        loss.backward()\n",
    "        optim.step()\n",
    "        \n",
    "        running_loss+=loss.item()\n",
    "    net.eval()\n",
    "    \n",
    "    train_losses.append(running_loss/i)\n",
    "    y_pred=net(X_test)\n",
    "    test_loss=loss_fn(y_pred, Y_test)\n",
    "    test_losses.append(test_loss.item())\n",
    "        "
   ]
  },
  {
   "cell_type": "markdown",
   "id": "8d02c683",
   "metadata": {},
   "source": [
    "# Custom Layer"
   ]
  },
  {
   "cell_type": "code",
   "execution_count": null,
   "id": "ff705266",
   "metadata": {},
   "outputs": [],
   "source": [
    "class CustomLinear(nn.Module):\n",
    "    def __init__(self,in_features. out_features, bias=True, p=0.5):\n",
    "        super().__init__()\n",
    "        self.linear=nn.Linear(in_features, out_features, bias)\n",
    "    \n",
    "    self.relu=nn.ReLU()\n",
    "    self.drop=nn.Droptout(p)\n",
    "    \n",
    "\n",
    "    def forward(self,x):\n",
    "        x=self.linear(x)\n",
    "        x=self.relu(x)\n",
    "        x=self.drop(x)\n",
    "        return x\n",
    "    \n",
    "mlp=nn.Sequential(\n",
    "    CustomLinear(64,200),\n",
    "    CustomLinear(200,200),\n",
    "    CustomLinear(200,200),\n",
    "    nn.Linear(200,10)\n",
    ")"
   ]
  },
  {
   "cell_type": "code",
   "execution_count": null,
   "id": "49107ace",
   "metadata": {},
   "outputs": [],
   "source": [
    "# 위 mlp와 동일\n",
    "class MyMLP(nn.Module):\n",
    "    def __init__(self, in_features, out_features):\n",
    "        super().__init__()\n",
    "        self.ln1=CustomLineaer(in_features, 200)\n",
    "        self.ln2=CustomLinear(200,200)\n",
    "        self.ln3=CustomLinear(200,200)\n",
    "        slef.ln4=CuntomLinear(200,out_feaures)\n",
    "    \n",
    "    def forward(self,x):\n",
    "        x=self.ln1(x)\n",
    "        x=self.ln2(x)\n",
    "        x=self.ln3(x)"
   ]
  }
 ],
 "metadata": {
  "kernelspec": {
   "display_name": "Python 3 (ipykernel)",
   "language": "python",
   "name": "python3"
  },
  "language_info": {
   "codemirror_mode": {
    "name": "ipython",
    "version": 3
   },
   "file_extension": ".py",
   "mimetype": "text/x-python",
   "name": "python",
   "nbconvert_exporter": "python",
   "pygments_lexer": "ipython3",
   "version": "3.10.8"
  },
  "toc": {
   "base_numbering": 1,
   "nav_menu": {},
   "number_sections": true,
   "sideBar": true,
   "skip_h1_title": false,
   "title_cell": "Table of Contents",
   "title_sidebar": "Contents",
   "toc_cell": false,
   "toc_position": {},
   "toc_section_display": true,
   "toc_window_display": false
  }
 },
 "nbformat": 4,
 "nbformat_minor": 5
}
