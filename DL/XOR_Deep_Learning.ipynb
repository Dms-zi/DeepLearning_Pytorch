{
 "cells": [
  {
   "cell_type": "code",
   "execution_count": 1,
   "id": "61258d35",
   "metadata": {},
   "outputs": [],
   "source": [
    "import numpy as np\n",
    "\n",
    "# 수치미분 함수\n",
    "\n",
    "def numerical_derivative(f, x):\n",
    "    delta_x = 1e-4 # 0.0001\n",
    "    grad = np.zeros_like(x)\n",
    "    \n",
    "    it = np.nditer(x, flags=['multi_index'], op_flags=['readwrite'])\n",
    "    \n",
    "    while not it.finished:\n",
    "        idx = it.multi_index        \n",
    "        tmp_val = x[idx]\n",
    "        x[idx] = float(tmp_val) + delta_x\n",
    "        fx1 = f(x) # f(x+delta_x)\n",
    "        \n",
    "        x[idx] = tmp_val - delta_x \n",
    "        fx2 = f(x) # f(x-delta_x)\n",
    "        grad[idx] = (fx1 - fx2) / (2*delta_x)\n",
    "        \n",
    "        x[idx] = tmp_val \n",
    "        it.iternext()   \n",
    "        \n",
    "    return grad\n",
    "\n",
    "# sigmoid 함수\n",
    "\n",
    "def sigmoid(x):\n",
    "    return 1 / (1+np.exp(-x))"
   ]
  },
  {
   "cell_type": "code",
   "execution_count": 2,
   "id": "71b689bd",
   "metadata": {},
   "outputs": [],
   "source": [
    "class LogicGate:\n",
    "        \n",
    "    def __init__(self, gate_name, xdata, tdata):\n",
    "        \n",
    "        self.name = gate_name\n",
    "        \n",
    "        # 입력 데이터, 정답 데이터 초기화\n",
    "        self.__xdata = xdata.reshape(4,2)  # 4개의 입력데이터 x1, x2 에 대하여 batch 처리 행렬\n",
    "        self.__tdata = tdata.reshape(4,1)  # 4개의 입력데이터 x1, x2 에 대한 각각의 계산 값 행렬\n",
    "        # 2:입력데이터 개수, 1: 출력데이터 개수, 4: 입력데이터(출력데이터) 2(1)개에 대한 조합(경우의수)==batch\n",
    "        \n",
    "        \n",
    "        # 2층 hidden layer unit : 6개 가정,  가중치 W2, 바이어스 b2 초기화\n",
    "        self.__W2 = np.random.rand(2,6)  # weight, 2 X 6 matrix, 입력데이터가 2개씩있음\n",
    "        self.__b2 = np.random.rand(6) #노드의 수 6개를 갖는 벡터\n",
    "        \n",
    "        # 3층 output layer unit : 1 개 , 가중치 W3, 바이어스 b3 초기화\n",
    "        self.__W3 = np.random.rand(6,1)\n",
    "        self.__b3 = np.random.rand(1)\n",
    "                        \n",
    "        # 학습률 learning rate 초기화\n",
    "        self.__learning_rate = 1e-2\n",
    "    \n",
    "        print(self.name + \" object is created\")\n",
    "            \n",
    "     # feed_foward & loss_val : 이전출력값이 다음입력값이 됨\n",
    "    # 마지막 출력층에서 cross_entropy를 이용해 손실함수 값 계산\n",
    "\n",
    "    def feed_forward(self):        # feed forward 를 통하여 손실함수(cross-entropy) 값 계산\n",
    "        \n",
    "        delta = 1e-7    # log 무한대 발산 방지\n",
    "    \n",
    "        z2 = np.dot(self.__xdata, self.__W2) + self.__b2  # 은닉층의 선형회귀 값\n",
    "        a2 = sigmoid(z2)                                  # 은닉층의 출력\n",
    "        \n",
    "        z3 = np.dot(a2, self.__W3) + self.__b3            # 출력층의 선형회귀 값\n",
    "        y = a3 = sigmoid(z3)                              # 출력층의 출력\n",
    "    \n",
    "        # cross-entropy \n",
    "        return  -np.sum( self.__tdata*np.log(y + delta) + (1-self.__tdata)*np.log((1 - y)+delta ) )    \n",
    "    \n",
    "    def loss_val(self):          # 외부 출력을 위한 손실함수(cross-entropy) 값 계산 \n",
    "        \n",
    "        delta = 1e-7    # log 무한대 발산 방지\n",
    "    \n",
    "        z2 = np.dot(self.__xdata, self.__W2) + self.__b2  # 은닉층의 선형회귀 값\n",
    "        a2 = sigmoid(z2)                                  # 은닉층의 출력\n",
    "        \n",
    "        z3 = np.dot(a2, self.__W3) + self.__b3            # 출력층의 선형회귀 값\n",
    "        y = a3 = sigmoid(z3)                              # 출력층의 출력\n",
    "    \n",
    "        # cross-entropy \n",
    "        return  -np.sum( self.__tdata*np.log(y + delta) + (1-self.__tdata)*np.log((1 - y)+delta ) )\n",
    "    \n",
    "    \n",
    "    # 수치미분을 이용하여 손실함수가 최소가 될때 까지 학습하는 함수\n",
    "    def train(self):\n",
    "        \n",
    "        f = lambda x : self.feed_forward()\n",
    "        \n",
    "        print(\"Initial loss value = \", self.loss_val())\n",
    "        \n",
    "        for step in  range(10001):\n",
    "            \n",
    "            self.__W2 -= self.__learning_rate * numerical_derivative(f, self.__W2)\n",
    "    \n",
    "            self.__b2 -= self.__learning_rate * numerical_derivative(f, self.__b2)\n",
    "        \n",
    "            self.__W3 -= self.__learning_rate * numerical_derivative(f, self.__W3)\n",
    "    \n",
    "            self.__b3 -= self.__learning_rate * numerical_derivative(f, self.__b3)\n",
    "    \n",
    "            if (step % 400 == 0):\n",
    "                print(\"step = \", step, \"  , loss value = \", self.loss_val())\n",
    "                \n",
    "    \n",
    "    # query, 즉 미래 값 예측 함수\n",
    "    def predict(self, xdata):\n",
    "        \n",
    "        z2 = np.dot(xdata, self.__W2) + self.__b2         # 은닉층의 선형회귀 값\n",
    "        a2 = sigmoid(z2)                                  # 은닉층의 출력\n",
    "        \n",
    "        z3 = np.dot(a2, self.__W3) + self.__b3            # 출력층의 선형회귀 값\n",
    "        y = a3 = sigmoid(z3)                              # 출력층의 출력\n",
    "    \n",
    "        if y > 0.5:\n",
    "            result = 1  # True\n",
    "        else:\n",
    "            result = 0  # False\n",
    "    \n",
    "        return y, result"
   ]
  },
  {
   "cell_type": "code",
   "execution_count": 3,
   "id": "3ade92dc",
   "metadata": {},
   "outputs": [
    {
     "name": "stdout",
     "output_type": "stream",
     "text": [
      "AND object is created\n",
      "Initial loss value =  5.73478406534876\n",
      "step =  0   , loss value =  5.5294642626986406\n",
      "step =  400   , loss value =  2.174758301841841\n",
      "step =  800   , loss value =  1.9806802407160304\n",
      "step =  1200   , loss value =  1.6944679574393797\n",
      "step =  1600   , loss value =  1.3645302712817742\n",
      "step =  2000   , loss value =  1.0464980167901756\n",
      "step =  2400   , loss value =  0.779635398292675\n",
      "step =  2800   , loss value =  0.5780829341964729\n",
      "step =  3200   , loss value =  0.4348307276622819\n",
      "step =  3600   , loss value =  0.3350761258500158\n",
      "step =  4000   , loss value =  0.265174952726697\n",
      "step =  4400   , loss value =  0.21521585072387783\n",
      "step =  4800   , loss value =  0.17861900026848188\n",
      "step =  5200   , loss value =  0.1511303284474566\n",
      "step =  5600   , loss value =  0.1299918035980041\n",
      "step =  6000   , loss value =  0.11338686650701088\n",
      "step =  6400   , loss value =  0.10009370121655108\n",
      "step =  6800   , loss value =  0.08927192663444543\n",
      "step =  7200   , loss value =  0.08033067163624441\n",
      "step =  7600   , loss value =  0.07284576665111973\n",
      "step =  8000   , loss value =  0.06650677941719664\n",
      "step =  8400   , loss value =  0.06108245188495334\n",
      "step =  8800   , loss value =  0.05639768894432107\n",
      "step =  9200   , loss value =  0.05231793934452486\n",
      "step =  9600   , loss value =  0.048738398453233606\n",
      "step =  10000   , loss value =  0.04557641518079097\n"
     ]
    }
   ],
   "source": [
    "# AND Gate 객체 생성 및 training 딥러닝 버전\n",
    "\n",
    "xdata = np.array([ [0, 0], [0, 1], [1, 0], [1, 1] ])\n",
    "tdata = np.array([0, 0, 0, 1])\n",
    "\n",
    "and_obj = LogicGate(\"AND\", xdata, tdata)\n",
    "\n",
    "and_obj.train()"
   ]
  },
  {
   "cell_type": "code",
   "execution_count": 6,
   "id": "d8c24217",
   "metadata": {},
   "outputs": [
    {
     "name": "stdout",
     "output_type": "stream",
     "text": [
      "(array([0.00015607]), 0)\n",
      "(array([0.01176621]), 0)\n",
      "(array([0.01160651]), 0)\n",
      "(array([0.97832792]), 1)\n"
     ]
    }
   ],
   "source": [
    "#AND Gate prediction\n",
    "\n",
    "test_data = np.array([ [0, 0], [0, 1], [1, 0], [1, 1] ])\n",
    "\n",
    "for data in test_data:\n",
    "    print(and_obj.predict(data))"
   ]
  },
  {
   "cell_type": "code",
   "execution_count": 8,
   "id": "d2908f1e",
   "metadata": {},
   "outputs": [
    {
     "name": "stdout",
     "output_type": "stream",
     "text": [
      "OR object is created\n",
      "Initial loss value =  3.2154906331625637\n",
      "step =  0   , loss value =  3.1884414571467645\n",
      "step =  400   , loss value =  1.9679011034278449\n",
      "step =  800   , loss value =  1.7141888466173905\n",
      "step =  1200   , loss value =  1.3256990215542184\n",
      "step =  1600   , loss value =  0.907817674388384\n",
      "step =  2000   , loss value =  0.5965224876562013\n",
      "step =  2400   , loss value =  0.40313885455206644\n",
      "step =  2800   , loss value =  0.28678229453213683\n",
      "step =  3200   , loss value =  0.2145040472044796\n",
      "step =  3600   , loss value =  0.16734893858941335\n",
      "step =  4000   , loss value =  0.1350598492787781\n",
      "step =  4400   , loss value =  0.111989981653699\n",
      "step =  4800   , loss value =  0.09490263141006247\n",
      "step =  5200   , loss value =  0.08185800035932767\n",
      "step =  5600   , loss value =  0.07164328983241094\n",
      "step =  6000   , loss value =  0.0634707392383659\n",
      "step =  6400   , loss value =  0.056811100889791945\n",
      "step =  6800   , loss value =  0.0512980966888325\n",
      "step =  7200   , loss value =  0.04667153620918792\n",
      "step =  7600   , loss value =  0.0427422909861328\n",
      "step =  8000   , loss value =  0.03937006047477673\n",
      "step =  8400   , loss value =  0.03644886604789776\n",
      "step =  8800   , loss value =  0.03389735066679398\n",
      "step =  9200   , loss value =  0.03165214631282755\n",
      "step =  9600   , loss value =  0.029663246907616608\n",
      "step =  10000   , loss value =  0.027890720942609953\n"
     ]
    }
   ],
   "source": [
    "# OR Gate 객체 생성 및 training\n",
    "\n",
    "xdata = np.array([ [0, 0], [0, 1], [1, 0], [1, 1] ])\n",
    "tdata = np.array([0, 1, 1, 1])\n",
    "\n",
    "or_obj = LogicGate(\"OR\", xdata, tdata)\n",
    "\n",
    "or_obj.train()"
   ]
  },
  {
   "cell_type": "code",
   "execution_count": 9,
   "id": "c48d15b7",
   "metadata": {},
   "outputs": [
    {
     "name": "stdout",
     "output_type": "stream",
     "text": [
      "(array([0.01558285]), 0)\n",
      "(array([0.99408228]), 1)\n",
      "(array([0.99389544]), 1)\n",
      "(array([0.99987299]), 1)\n"
     ]
    }
   ],
   "source": [
    "# OR Gate prediction\n",
    "\n",
    "test_data = np.array([ [0, 0], [0, 1], [1, 0], [1, 1] ])\n",
    "\n",
    "for data in test_data:\n",
    "    print(or_obj.predict(data))"
   ]
  },
  {
   "cell_type": "code",
   "execution_count": 10,
   "id": "9200b0ce",
   "metadata": {},
   "outputs": [
    {
     "name": "stdout",
     "output_type": "stream",
     "text": [
      "NAND object is created\n",
      "Initial loss value =  3.234431243074649\n",
      "step =  0   , loss value =  3.2046275029015328\n",
      "step =  400   , loss value =  2.306431319738199\n",
      "step =  800   , loss value =  2.1782720627367844\n",
      "step =  1200   , loss value =  1.99542608418897\n",
      "step =  1600   , loss value =  1.7171857993655606\n",
      "step =  2000   , loss value =  1.385253885652841\n",
      "step =  2400   , loss value =  1.0673253958611433\n",
      "step =  2800   , loss value =  0.7989105815910953\n",
      "step =  3200   , loss value =  0.593280046811395\n",
      "step =  3600   , loss value =  0.445473456591291\n",
      "step =  4000   , loss value =  0.34183562930896466\n",
      "step =  4400   , loss value =  0.2689558799294831\n",
      "step =  4800   , loss value =  0.21681785392829306\n",
      "step =  5200   , loss value =  0.17867130546320442\n",
      "step =  5600   , loss value =  0.15010813284349483\n",
      "step =  6000   , loss value =  0.12824696987679424\n",
      "step =  6400   , loss value =  0.11117595105925328\n",
      "step =  6800   , loss value =  0.09760087461926492\n",
      "step =  7200   , loss value =  0.08662723312171858\n",
      "step =  7600   , loss value =  0.07762432272975842\n",
      "step =  8000   , loss value =  0.07013910114746524\n",
      "step =  8400   , loss value =  0.06384048914403369\n",
      "step =  8800   , loss value =  0.05848263851161674\n",
      "step =  9200   , loss value =  0.05388025504472001\n",
      "step =  9600   , loss value =  0.04989173397410438\n",
      "step =  10000   , loss value =  0.046407450270119985\n"
     ]
    }
   ],
   "source": [
    "# NAND Gate 객체 생성 및 training\n",
    "\n",
    "xdata = np.array([ [0, 0], [0, 1], [1, 0], [1, 1] ])\n",
    "tdata = np.array([1, 1, 1, 0])\n",
    "\n",
    "nand_obj = LogicGate(\"NAND\", xdata, tdata)\n",
    "\n",
    "nand_obj.train()"
   ]
  },
  {
   "cell_type": "code",
   "execution_count": 11,
   "id": "daf84db0",
   "metadata": {},
   "outputs": [
    {
     "name": "stdout",
     "output_type": "stream",
     "text": [
      "(array([0.9998536]), 1)\n",
      "(array([0.98783766]), 1)\n",
      "(array([0.98774434]), 1)\n",
      "(array([0.02145956]), 0)\n"
     ]
    }
   ],
   "source": [
    "# NAND Gate prediction\n",
    "\n",
    "test_data = np.array([ [0, 0], [0, 1], [1, 0], [1, 1] ])\n",
    "\n",
    "for data in test_data:\n",
    "    print(nand_obj.predict(data))"
   ]
  },
  {
   "cell_type": "code",
   "execution_count": 12,
   "id": "2a3c0f38",
   "metadata": {},
   "outputs": [
    {
     "name": "stdout",
     "output_type": "stream",
     "text": [
      "XOR object is created\n",
      "Initial loss value =  5.649364011901657\n",
      "step =  0   , loss value =  5.517268831661271\n",
      "step =  400   , loss value =  2.7517510475131557\n",
      "step =  800   , loss value =  2.744100927181152\n",
      "step =  1200   , loss value =  2.734016341141256\n",
      "step =  1600   , loss value =  2.7204987893065558\n",
      "step =  2000   , loss value =  2.7023097595759307\n",
      "step =  2400   , loss value =  2.6779816660362394\n",
      "step =  2800   , loss value =  2.6458662781853493\n",
      "step =  3200   , loss value =  2.604213880462217\n",
      "step =  3600   , loss value =  2.551301873903154\n",
      "step =  4000   , loss value =  2.4856673148146102\n",
      "step =  4400   , loss value =  2.4064182236268525\n",
      "step =  4800   , loss value =  2.3133435974274685\n",
      "step =  5200   , loss value =  2.2064348832979146\n",
      "step =  5600   , loss value =  2.08494998438211\n",
      "step =  6000   , loss value =  1.9470229100171808\n",
      "step =  6400   , loss value =  1.790972665388583\n",
      "step =  6800   , loss value =  1.6180778162511222\n",
      "step =  7200   , loss value =  1.4344760167860429\n",
      "step =  7600   , loss value =  1.249949132320848\n",
      "step =  8000   , loss value =  1.0744036633486849\n",
      "step =  8400   , loss value =  0.9149570365883768\n",
      "step =  8800   , loss value =  0.775220278709489\n",
      "step =  9200   , loss value =  0.6560416349791354\n",
      "step =  9600   , loss value =  0.5564575401604819\n",
      "step =  10000   , loss value =  0.47442079352194294\n"
     ]
    }
   ],
   "source": [
    "# XOR Gate 객체 생성\n",
    "\n",
    "xdata = np.array([ [0, 0], [0, 1], [1, 0], [1, 1] ])\n",
    "tdata = np.array([0, 1, 1, 0])\n",
    "\n",
    "\n",
    "xor_obj = LogicGate(\"XOR\", xdata, tdata)\n",
    "\n",
    "xor_obj.train()"
   ]
  },
  {
   "cell_type": "code",
   "execution_count": 13,
   "id": "82c6d7fb",
   "metadata": {},
   "outputs": [
    {
     "name": "stdout",
     "output_type": "stream",
     "text": [
      "(array([0.05378248]), 0)\n",
      "(array([0.85787443]), 1)\n",
      "(array([0.91882058]), 1)\n",
      "(array([0.1657119]), 0)\n"
     ]
    }
   ],
   "source": [
    "test_data = np.array([ [0, 0], [0, 1], [1, 0], [1, 1] ])\n",
    "\n",
    "for data in test_data:\n",
    "    print(xor_obj.predict(data))"
   ]
  },
  {
   "cell_type": "code",
   "execution_count": null,
   "id": "5a0ab0a4",
   "metadata": {},
   "outputs": [],
   "source": []
  }
 ],
 "metadata": {
  "kernelspec": {
   "display_name": "Python 3 (ipykernel)",
   "language": "python",
   "name": "python3"
  },
  "language_info": {
   "codemirror_mode": {
    "name": "ipython",
    "version": 3
   },
   "file_extension": ".py",
   "mimetype": "text/x-python",
   "name": "python",
   "nbconvert_exporter": "python",
   "pygments_lexer": "ipython3",
   "version": "3.10.4"
  },
  "toc": {
   "base_numbering": 1,
   "nav_menu": {},
   "number_sections": true,
   "sideBar": true,
   "skip_h1_title": false,
   "title_cell": "Table of Contents",
   "title_sidebar": "Contents",
   "toc_cell": false,
   "toc_position": {},
   "toc_section_display": true,
   "toc_window_display": false
  }
 },
 "nbformat": 4,
 "nbformat_minor": 5
}
