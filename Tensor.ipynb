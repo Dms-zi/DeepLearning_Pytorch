{
 "cells": [
  {
   "cell_type": "code",
   "execution_count": 6,
   "id": "fd847a26",
   "metadata": {
    "scrolled": true
   },
   "outputs": [
    {
     "data": {
      "text/plain": [
       "tensor([[1., 1.],\n",
       "        [1., 1.],\n",
       "        [1., 1.]])"
      ]
     },
     "execution_count": 6,
     "metadata": {},
     "output_type": "execute_result"
    }
   ],
   "source": [
    "import torch\n",
    "a=torch.ones(3,2)\n",
    "a"
   ]
  },
  {
   "cell_type": "code",
   "execution_count": 7,
   "id": "19d09208",
   "metadata": {},
   "outputs": [
    {
     "data": {
      "text/plain": [
       "tensor(4.)"
      ]
     },
     "execution_count": 7,
     "metadata": {},
     "output_type": "execute_result"
    }
   ],
   "source": [
    "# 생성자에 숫자, 리스트 넘김 가능\n",
    "point=torch.tensor([4.0,1.0,5.0,3.0])\n",
    "point[0]"
   ]
  },
  {
   "cell_type": "code",
   "execution_count": 8,
   "id": "3c4d1b47",
   "metadata": {},
   "outputs": [
    {
     "data": {
      "text/plain": [
       "torch.Size([4])"
      ]
     },
     "execution_count": 8,
     "metadata": {},
     "output_type": "execute_result"
    }
   ],
   "source": [
    "#shape -> .size()\n",
    "point.size()"
   ]
  },
  {
   "cell_type": "code",
   "execution_count": 11,
   "id": "ae62ba53",
   "metadata": {},
   "outputs": [],
   "source": [
    "# 이미지 데이터-> 흥백으로 변환( 색상별 가중치를 보고 밝기 값을 뽑아냄)\n",
    "img_t=torch.randn(3,5,5) #channel,height(raw), width(col)\n",
    "weights= torch.tensor([0.2126,0.7152,0.0772])"
   ]
  },
  {
   "cell_type": "code",
   "execution_count": 12,
   "id": "c1b44087",
   "metadata": {},
   "outputs": [],
   "source": [
    "batch_t=torch.randn(2,3,5,5) # batch, channel, raw, col\n",
    "# RGB는 일반적으로 -3 위치에 있음"
   ]
  },
  {
   "cell_type": "code",
   "execution_count": 14,
   "id": "fc4c59d6",
   "metadata": {},
   "outputs": [
    {
     "data": {
      "text/plain": [
       "(torch.Size([5, 5]), torch.Size([2, 5, 5]))"
      ]
     },
     "execution_count": 14,
     "metadata": {},
     "output_type": "execute_result"
    }
   ],
   "source": [
    "img_gray_naive=img_t.mean(-3)\n",
    "batch_gray_naive=batch_t.mean(-3)\n",
    "img_gray_naive.shape,batch_gray_naive.shape"
   ]
  },
  {
   "cell_type": "code",
   "execution_count": 19,
   "id": "523759d1",
   "metadata": {},
   "outputs": [
    {
     "data": {
      "text/plain": [
       "(torch.Size([2, 3, 5, 5]), torch.Size([2, 3, 5, 5]), torch.Size([3, 1, 1]))"
      ]
     },
     "execution_count": 19,
     "metadata": {},
     "output_type": "execute_result"
    }
   ],
   "source": [
    "unsq=weights.unsqueeze(-1).unsqueeze_(-1)\n",
    "img_we=(img_t * unsq)\n",
    "batch_we=batch_t*unsq\n",
    "img_gr_we=img_we.sum(-3)\n",
    "batch_gr_we=batch_we.sum(-3)\n",
    "batch_we.shape,batch_t.shape,unsq.shape"
   ]
  },
  {
   "cell_type": "code",
   "execution_count": 22,
   "id": "fff9fcc2",
   "metadata": {},
   "outputs": [],
   "source": [
    "double=torch.ones(10,2,dtype=torch.double)\n",
    "short=torch.tensor([[1,2],[3,4]], dtype=torch.short)"
   ]
  },
  {
   "cell_type": "code",
   "execution_count": 23,
   "id": "d4c36b0c",
   "metadata": {},
   "outputs": [
    {
     "data": {
      "text/plain": [
       "torch.int16"
      ]
     },
     "execution_count": 23,
     "metadata": {},
     "output_type": "execute_result"
    }
   ],
   "source": [
    "short.dtype"
   ]
  },
  {
   "cell_type": "code",
   "execution_count": 24,
   "id": "58783aa0",
   "metadata": {},
   "outputs": [
    {
     "data": {
      "text/plain": [
       "torch.float64"
      ]
     },
     "execution_count": 24,
     "metadata": {},
     "output_type": "execute_result"
    }
   ],
   "source": [
    "double.dtype"
   ]
  },
  {
   "cell_type": "code",
   "execution_count": null,
   "id": "4d67485c",
   "metadata": {},
   "outputs": [],
   "source": [
    "double=torch.ones(10,2,dtype=torch.double).to(torch.double)\n",
    "short=torch.tensor([[1,2],[3,4]], dtype=torch.short).to(dtype=torch.short)"
   ]
  }
 ],
 "metadata": {
  "kernelspec": {
   "display_name": "Python 3 (ipykernel)",
   "language": "python",
   "name": "python3"
  },
  "language_info": {
   "codemirror_mode": {
    "name": "ipython",
    "version": 3
   },
   "file_extension": ".py",
   "mimetype": "text/x-python",
   "name": "python",
   "nbconvert_exporter": "python",
   "pygments_lexer": "ipython3",
   "version": "3.10.8"
  },
  "toc": {
   "base_numbering": 1,
   "nav_menu": {},
   "number_sections": true,
   "sideBar": true,
   "skip_h1_title": false,
   "title_cell": "Table of Contents",
   "title_sidebar": "Contents",
   "toc_cell": false,
   "toc_position": {},
   "toc_section_display": true,
   "toc_window_display": false
  }
 },
 "nbformat": 4,
 "nbformat_minor": 5
}
